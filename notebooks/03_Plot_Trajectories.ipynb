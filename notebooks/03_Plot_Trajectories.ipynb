{
 "cells": [
  {
   "cell_type": "code",
   "execution_count": null,
   "id": "ee3c31a0",
   "metadata": {},
   "outputs": [],
   "source": [
    "import os\n",
    "import sys\n",
    "import pandas as pd\n",
    "import numpy as np\n",
    "import matplotlib\n",
    "import matplotlib.pyplot as plt\n",
    "\n",
    "sys.path.append(\"../\")\n",
    "from utils.io import read_parameters\n",
    "from src.plot_trajectories import plot_trajectories_per_file\n",
    "from src.plot_trajectories import plot_trajectories_from_origin_per_file\n",
    "from src.plot_trajectories import plot_trajectories_from_origin_per_condition\n",
    "from src.plot_trajectories import get_color_from_speed\n",
    "\n",
    "cmap = matplotlib.colormaps[\"seismic\"]"
   ]
  },
  {
   "cell_type": "code",
   "execution_count": null,
   "id": "e195de29",
   "metadata": {},
   "outputs": [],
   "source": [
    "# read parameters and key file\n",
    "\n",
    "parameter_file  = \"../local/parameters.yml\"\n",
    "parameters = read_parameters(parameter_file)       \n",
    "\n",
    "key_file_path = parameters[\"key_file\"]\n",
    "key_file = pd.read_csv(key_file_path)\n",
    "\n",
    "print(\"key file columns:\", key_file.columns)\n",
    "print(\"key file conditions:\", key_file[\"condition\"].unique())"
   ]
  },
  {
   "cell_type": "code",
   "execution_count": null,
   "id": "d1f4f27c",
   "metadata": {},
   "outputs": [],
   "source": [
    "# create output folder\n",
    "\n",
    "output_folder = parameters[\"output_folder\"]\n",
    "print(\"Output folder:\", output_folder)\n",
    "\n",
    "data_folder = output_folder + \"/tracking_data/\"\n",
    "\n",
    "subfolder = \"trajectory_plots\"\n",
    "if not os.path.exists(output_folder + \"/\" + subfolder):\n",
    "    os.mkdir(output_folder + \"/\" + subfolder)\n",
    "\n",
    "#tracking_data = pd.read_csv(data_folder + \"tracking_data.csv\") \n"
   ]
  },
  {
   "cell_type": "code",
   "execution_count": null,
   "id": "a360f9ca",
   "metadata": {},
   "outputs": [],
   "source": [
    "# plot paramters\n",
    "\n",
    "condition = 'mosaic_siCTRL_siAlk1'\n",
    "color = 'red'\n",
    "treatment = 'siAlk1'\n",
    "\n",
    "number_of_tracks_per_condition = 1000\n"
   ]
  },
  {
   "cell_type": "code",
   "execution_count": null,
   "id": "cb19124d",
   "metadata": {},
   "outputs": [],
   "source": [
    "#key_select = key_file[key_file[\"condition\"] == ]\n",
    "#key_select = key_select[key_select[\"color\"] == color]\n",
    "key_select = key_file[key_file[\"treatment\"] == treatment] \n",
    "\n",
    "number_of_tracks_per_file = int(number_of_tracks_per_condition/len(key_select.index))\n",
    "print(\"sample %s tracks per file\" % number_of_tracks_per_file)\n",
    "\n",
    "track_counter = 0\n",
    "center_x = 0\n",
    "center_y = 0\n",
    "\n",
    "fig, ax = plt.subplots(figsize=(9,9))\n",
    "\n",
    "for index, row in key_select.iterrows():\n",
    "\n",
    "    tracking_file = \"tracking_data_%s_%s_%s.csv\" % (treatment, row[\"color\"], row[\"experimentID\"])\n",
    "                \n",
    "    data = pd.read_csv(data_folder+ tracking_file, low_memory=False)\n",
    "\n",
    "    observation_period_df = data[data[\"FRAME\"] <= parameters[\"end_phase_1\"]]\n",
    "\n",
    "    trackID_list = np.array(observation_period_df[\"TRACK_ID\"].unique())\n",
    "    print(\"Available tracks: %s\" % len(trackID_list))\n",
    "    trackID_list = np.random.choice(trackID_list, number_of_tracks_per_file)\n",
    "\n",
    "    print(\"sampled %s tracks for file %s\" % (len(trackID_list),tracking_file))\n",
    "    track_counter += len(trackID_list)\n",
    "\n",
    "    center_per_file_x = 0.0\n",
    "    center_per_file_y = 0.0\n",
    "    total_dist_per_file = 0.0\n",
    "                \n",
    "    for track_id in trackID_list:\n",
    "        single_track_df = observation_period_df[observation_period_df[\"TRACK_ID\"] == track_id]\n",
    "\n",
    "        end_x = np.array(single_track_df[\"ORIGIN_X\"])[-1]\n",
    "        end_y = np.array(single_track_df[\"ORIGIN_Y\"])[-1]\n",
    "\n",
    "        total_dist_per_file += np.sqrt(end_x**2 + end_y**2)\n",
    "\n",
    "        center_x += end_x\n",
    "        center_y += end_y\n",
    "\n",
    "        center_per_file_x += end_x\n",
    "        center_per_file_y += end_y\n",
    "\n",
    "        rel_vel = get_color_from_speed(-end_x)\n",
    "\n",
    "                    # ax.plot(single_track_df[\"ORIGIN_X\"],single_track_df[\"ORIGIN_Y\"], color = \"#ff7f00\")\n",
    "                    # ax.plot([end_x],[end_y], color = \"black\", marker = \"o\")\n",
    "\n",
    "                    # color by track id             \n",
    "                    #ax.plot(single_track_df[\"ORIGIN_X\"], single_track_df[\"ORIGIN_Y\"])\n",
    "                    #ax.plot([end_x], [end_y], marker=\"o\")\n",
    "\n",
    "                    # color by velocity   \n",
    "        ax.plot(single_track_df[\"ORIGIN_X\"],single_track_df[\"ORIGIN_Y\"], color = cmap(rel_vel))\n",
    "        ax.plot([end_x],[end_y], color = \"black\", marker = \"o\", alpha=0.5) \n",
    "\n",
    "\n",
    "ax.set_xlim(-110,110)\n",
    "ax.set_ylim(-110,110)\n",
    "ax.axhline(0, color = \"red\", linestyle = \"--\")\n",
    "ax.axvline(0, color = \"red\", linestyle = \"--\")\n",
    "ax.set_title(treatment)\n",
    "ax.set_xlabel(\"$\\Delta x$ in $\\mu m$\")\n",
    "ax.set_ylabel(\"$\\Delta y$ in $\\mu m$\")\n",
    "ax.set_aspect(1)\n",
    "plt.tight_layout()"
   ]
  },
  {
   "cell_type": "code",
   "execution_count": null,
   "id": "665bb341",
   "metadata": {},
   "outputs": [],
   "source": [
    "#single_condition_data = tracking_data[tracking_data[\"condition\"] == condition]\n",
    "#single_color_data = single_condition_data[single_condition_data[\"color\"] == color]\n",
    "#single_color_data = single_color_data[data[\"FRAME\"] <= parameters[\"observation_period\"][1]]\n",
    "#ingle_color_data = single_color_data[data[\"FRAME\"] >= parameters[\"observation_period\"][0]]"
   ]
  },
  {
   "cell_type": "code",
   "execution_count": null,
   "id": "724fee1d",
   "metadata": {
    "scrolled": true
   },
   "outputs": [],
   "source": [
    "# plot_trajectories_from_origin_per_condition(parameters, key_file, subfolder = \"tracking_data\", number_of_tracks_per_condition = parameters[\"number_of_cells_per_condition\"])"
   ]
  }
 ],
 "metadata": {
  "kernelspec": {
   "display_name": "Python 3 (ipykernel)",
   "language": "python",
   "name": "python3"
  },
  "language_info": {
   "codemirror_mode": {
    "name": "ipython",
    "version": 3
   },
   "file_extension": ".py",
   "mimetype": "text/x-python",
   "name": "python",
   "nbconvert_exporter": "python",
   "pygments_lexer": "ipython3",
   "version": "3.8.19"
  }
 },
 "nbformat": 4,
 "nbformat_minor": 5
}

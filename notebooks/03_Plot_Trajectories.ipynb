{
 "cells": [
  {
   "cell_type": "code",
   "execution_count": 1,
   "id": "eb982e32",
   "metadata": {},
   "outputs": [],
   "source": [
    "import os\n",
    "import sys\n",
    "import pandas as pd\n",
    "\n",
    "sys.path.append(\"../\")\n",
    "from utils.io import read_parameters\n",
    "from src.plot_trajectories import plot_trajectories_per_file\n",
    "from src.plot_trajectories import plot_trajectories_from_origin_per_file\n",
    "from src.plot_trajectories import plot_trajectories_from_origin_per_condition"
   ]
  },
  {
   "cell_type": "code",
   "execution_count": 2,
   "id": "6e1aea18",
   "metadata": {},
   "outputs": [
    {
     "name": "stdout",
     "output_type": "stream",
     "text": [
      "             experimentID                                  filename  color  \\\n",
      "0  230901_siCTRL_1_mosaic  /siCTRL_mosaic/230901_siCTRL_green_1.csv  green   \n",
      "1  230901_siCTRL_1_mosaic    /siCTRL_mosaic/230901_siCTRL_red_1.csv    red   \n",
      "2  230901_siCTRL_2_mosaic  /siCTRL_mosaic/230901_siCTRL_green_2.csv  green   \n",
      "3  230901_siCTRL_2_mosaic    /siCTRL_mosaic/230901_siCTRL_red_2.csv    red   \n",
      "4    230915_siCTRL_mosaic    /siCTRL_mosaic/230915_siCTRL_green.csv  green   \n",
      "\n",
      "   mosaic treatment             condition    date  \n",
      "0       1    siCTRL  mosaic_siCTRL_siCTRL  230901  \n",
      "1       1    siCTRL  mosaic_siCTRL_siCTRL  230901  \n",
      "2       1    siCTRL  mosaic_siCTRL_siCTRL  230901  \n",
      "3       1    siCTRL  mosaic_siCTRL_siCTRL  230901  \n",
      "4       1    siCTRL  mosaic_siCTRL_siCTRL  230915  \n"
     ]
    }
   ],
   "source": [
    "# read parameters and key file\n",
    "\n",
    "parameter_file  = \"../local/parameters.yml\"\n",
    "parameters = read_parameters(parameter_file)       \n",
    "\n",
    "\n",
    "key_file_path = parameters[\"key_file\"]\n",
    "key_file = pd.read_csv(key_file_path)\n",
    "print(key_file.head())"
   ]
  },
  {
   "cell_type": "code",
   "execution_count": 3,
   "id": "6d1a1fb1",
   "metadata": {},
   "outputs": [
    {
     "name": "stdout",
     "output_type": "stream",
     "text": [
      "Output folder: /media/fjodor/TOSHIBA/Dropbox/MDC_Projects/Olya_migration/mosaic/output_240605/\n"
     ]
    }
   ],
   "source": [
    "# create output folder\n",
    "\n",
    "output_folder = parameters[\"output_folder\"]\n",
    "print(\"Output folder:\", output_folder)\n",
    "\n",
    "subfolder = \"trajectory_plots\"\n",
    "if not os.path.exists(output_folder + \"/\" + subfolder):\n",
    "    os.mkdir(output_folder + \"/\" + subfolder)\n"
   ]
  },
  {
   "cell_type": "code",
   "execution_count": 4,
   "id": "70241506",
   "metadata": {
    "scrolled": true
   },
   "outputs": [
    {
     "name": "stdout",
     "output_type": "stream",
     "text": [
      "Plotting trajectories(starting at origin) for condition:  mosaic_siCTRL_siCTRL\n",
      "Plotting trajectories (starting at origin) for condition mosaic_siCTRL_siCTRL and siCTRL: \n",
      "Number of files: 10 \n",
      "sample 30 tracks per file\n",
      "Available tracks: 1590\n",
      "sampled 30 tracks for file tracking_data_siCTRL_green_230901_siCTRL_1_mosaic.csv\n",
      "Available tracks: 3464\n",
      "sampled 30 tracks for file tracking_data_siCTRL_red_230901_siCTRL_1_mosaic.csv\n",
      "Available tracks: 1755\n",
      "sampled 30 tracks for file tracking_data_siCTRL_green_230901_siCTRL_2_mosaic.csv\n",
      "Available tracks: 3386\n",
      "sampled 30 tracks for file tracking_data_siCTRL_red_230901_siCTRL_2_mosaic.csv\n",
      "Available tracks: 1042\n",
      "sampled 30 tracks for file tracking_data_siCTRL_green_230915_siCTRL_mosaic.csv\n",
      "Available tracks: 3746\n",
      "sampled 30 tracks for file tracking_data_siCTRL_red_230915_siCTRL_mosaic.csv\n",
      "Available tracks: 1681\n",
      "sampled 30 tracks for file tracking_data_siCTRL_green_230922_siCTRL_1_mosaic.csv\n",
      "Available tracks: 4814\n",
      "sampled 30 tracks for file tracking_data_siCTRL_red_230922_siCTRL_1_mosaic.csv\n",
      "Available tracks: 1938\n",
      "sampled 30 tracks for file tracking_data_siCTRL_green_230922_siCTRL_2_mosaic.csv\n",
      "Available tracks: 3267\n",
      "sampled 30 tracks for file tracking_data_siCTRL_orange_230922_siCTRL_2_mosaic.csv\n",
      "Plotted 300 tracks for condition mosaic_siCTRL_siCTRL and siCTRL\n",
      "Plotting trajectories(starting at origin) for condition:  mosaic_siCTRL_siAlk1\n",
      "Plotting trajectories (starting at origin) for condition mosaic_siCTRL_siAlk1 and siAlk1: \n",
      "Number of files: 4 \n",
      "sample 75 tracks per file\n",
      "Available tracks: 3015\n",
      "sampled 75 tracks for file tracking_data_siAlk1_red_230804_iCTRL_siAlk1.csv\n",
      "Available tracks: 3036\n",
      "sampled 75 tracks for file tracking_data_siAlk1_red_230811_iCTRL_siAlk1.csv\n",
      "Available tracks: 2939\n",
      "sampled 75 tracks for file tracking_data_siAlk1_red_230817_iCTRL_siAlk1.csv\n",
      "Available tracks: 3361\n",
      "sampled 75 tracks for file tracking_data_siAlk1_red_230825_iCTRL_siAlk1.csv\n",
      "Plotted 300 tracks for condition mosaic_siCTRL_siAlk1 and siAlk1\n",
      "Plotting trajectories (starting at origin) for condition mosaic_siCTRL_siAlk1 and siCTRL: \n",
      "Number of files: 4 \n",
      "sample 75 tracks per file\n",
      "Available tracks: 969\n",
      "sampled 75 tracks for file tracking_data_siCTRL_green_230804_iCTRL_siAlk1.csv\n",
      "Available tracks: 681\n",
      "sampled 75 tracks for file tracking_data_siCTRL_green_230811_iCTRL_siAlk1.csv\n",
      "Available tracks: 1314\n",
      "sampled 75 tracks for file tracking_data_siCTRL_green_230817_iCTRL_siAlk1.csv\n",
      "Available tracks: 2189\n",
      "sampled 75 tracks for file tracking_data_siCTRL_green_230825_iCTRL_siAlk1.csv\n",
      "Plotted 300 tracks for condition mosaic_siCTRL_siAlk1 and siCTRL\n",
      "Plotting trajectories(starting at origin) for condition:  mosaic_siCTRL_siSMAD4\n",
      "Plotting trajectories (starting at origin) for condition mosaic_siCTRL_siSMAD4 and siSMAD4: \n",
      "Number of files: 4 \n",
      "sample 75 tracks per file\n",
      "Available tracks: 3151\n",
      "sampled 75 tracks for file tracking_data_siSMAD4_red_230804_iCTRL_siSMAD4.csv\n",
      "Available tracks: 3644\n",
      "sampled 75 tracks for file tracking_data_siSMAD4_red_230811_iCTRL_siSMAD4.csv\n",
      "Available tracks: 2934\n",
      "sampled 75 tracks for file tracking_data_siSMAD4_red_230817_iCTRL_siSMAD4.csv\n",
      "Available tracks: 3639\n",
      "sampled 75 tracks for file tracking_data_siSMAD4_red_230825_iCTRL_siSMAD4.csv\n",
      "Plotted 300 tracks for condition mosaic_siCTRL_siSMAD4 and siSMAD4\n",
      "Plotting trajectories (starting at origin) for condition mosaic_siCTRL_siSMAD4 and siCTRL: \n",
      "Number of files: 4 \n",
      "sample 75 tracks per file\n",
      "Available tracks: 1670\n",
      "sampled 75 tracks for file tracking_data_siCTRL_green_230804_iCTRL_siSMAD4.csv\n",
      "Available tracks: 856\n",
      "sampled 75 tracks for file tracking_data_siCTRL_green_230811_iCTRL_siSMAD4.csv\n",
      "Available tracks: 1101\n",
      "sampled 75 tracks for file tracking_data_siCTRL_green_230817_iCTRL_siSMAD4.csv\n",
      "Available tracks: 1185\n",
      "sampled 75 tracks for file tracking_data_siCTRL_green_230825_iCTRL_siSMAD4.csv\n",
      "Plotted 300 tracks for condition mosaic_siCTRL_siSMAD4 and siCTRL\n"
     ]
    }
   ],
   "source": [
    "plot_trajectories_from_origin_per_condition(parameters, key_file, subfolder = \"tracking_data\", number_of_tracks_per_condition = parameters[\"number_of_cells_per_condition\"])"
   ]
  }
 ],
 "metadata": {
  "kernelspec": {
   "display_name": "Python 3 (ipykernel)",
   "language": "python",
   "name": "python3"
  },
  "language_info": {
   "codemirror_mode": {
    "name": "ipython",
    "version": 3
   },
   "file_extension": ".py",
   "mimetype": "text/x-python",
   "name": "python",
   "nbconvert_exporter": "python",
   "pygments_lexer": "ipython3",
   "version": "3.8.16"
  }
 },
 "nbformat": 4,
 "nbformat_minor": 5
}

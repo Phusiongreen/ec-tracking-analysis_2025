{
 "cells": [
  {
   "cell_type": "code",
   "execution_count": 2,
   "id": "ee3c31a0",
   "metadata": {},
   "outputs": [],
   "source": [
    "import os\n",
    "import sys\n",
    "import pandas as pd\n",
    "import numpy as np\n",
    "\n",
    "sys.path.append(\"../\")\n",
    "from utils.io import read_parameters\n",
    "from src.plot_trajectories import plot_trajectories_per_file\n",
    "from src.plot_trajectories import plot_trajectories_from_origin_per_file\n",
    "from src.plot_trajectories import plot_trajectories_from_origin_per_condition\n",
    "from src.plot_trajectories import get_color_from_speed"
   ]
  },
  {
   "cell_type": "code",
   "execution_count": 3,
   "id": "e195de29",
   "metadata": {},
   "outputs": [
    {
     "name": "stdout",
     "output_type": "stream",
     "text": [
      "key file columns: Index(['experimentID', 'filename', 'color', 'mosaic', 'treatment', 'condition',\n",
      "       'date'],\n",
      "      dtype='object')\n",
      "key file conditions: ['mosaic_siCTRL_siCTRL' 'mosaic_siCTRL_siAlk1' 'mosaic_siCTRL_siSMAD4']\n"
     ]
    }
   ],
   "source": [
    "# read parameters and key file\n",
    "\n",
    "parameter_file  = \"../local/parameters.yml\"\n",
    "parameters = read_parameters(parameter_file)       \n",
    "\n",
    "key_file_path = parameters[\"key_file\"]\n",
    "key_file = pd.read_csv(key_file_path)\n",
    "\n",
    "print(\"key file columns:\", key_file.columns)\n",
    "print(\"key file conditions:\", key_file[\"condition\"].unique())"
   ]
  },
  {
   "cell_type": "code",
   "execution_count": 4,
   "id": "d1f4f27c",
   "metadata": {},
   "outputs": [
    {
     "name": "stdout",
     "output_type": "stream",
     "text": [
      "Output folder: /media/fjodor/Elephant/Dropbox/MDC_Projects/Olya_migration/mosaic/output_olya_mosaic_20240610/\n"
     ]
    }
   ],
   "source": [
    "# create output folder\n",
    "\n",
    "output_folder = parameters[\"output_folder\"]\n",
    "print(\"Output folder:\", output_folder)\n",
    "\n",
    "data_folder = output_folder + \"/tracking_data/\"\n",
    "\n",
    "subfolder = \"trajectory_plots\"\n",
    "if not os.path.exists(output_folder + \"/\" + subfolder):\n",
    "    os.mkdir(output_folder + \"/\" + subfolder)\n",
    "\n",
    "#tracking_data = pd.read_csv(data_folder + \"tracking_data.csv\") \n"
   ]
  },
  {
   "cell_type": "code",
   "execution_count": 5,
   "id": "a360f9ca",
   "metadata": {},
   "outputs": [],
   "source": [
    "# plot paramters\n",
    "\n",
    "condition = 'mosaic_siCTRL_siAlk1'\n",
    "color = 'red'\n",
    "treatment = 'siAlk1'\n",
    "\n",
    "number_of_tracks_per_condition = 500\n",
    "number_of_tracks_per_file = int(number_of_tracks_per_condition/len(key_file_treatment.index))\n",
    "print(\"sample %s tracks per file\" % number_of_tracks_per_file)"
   ]
  },
  {
   "cell_type": "code",
   "execution_count": 6,
   "id": "cb19124d",
   "metadata": {},
   "outputs": [
    {
     "name": "stdout",
     "output_type": "stream",
     "text": [
      "Available tracks: 3015\n"
     ]
    },
    {
     "ename": "NameError",
     "evalue": "name 'number_of_tracks_per_file' is not defined",
     "output_type": "error",
     "traceback": [
      "\u001b[0;31m---------------------------------------------------------------------------\u001b[0m",
      "\u001b[0;31mNameError\u001b[0m                                 Traceback (most recent call last)",
      "Cell \u001b[0;32mIn[6], line 15\u001b[0m\n\u001b[1;32m     13\u001b[0m trackID_list \u001b[38;5;241m=\u001b[39m np\u001b[38;5;241m.\u001b[39marray(observation_period_df[\u001b[38;5;124m\"\u001b[39m\u001b[38;5;124mTRACK_ID\u001b[39m\u001b[38;5;124m\"\u001b[39m]\u001b[38;5;241m.\u001b[39munique())\n\u001b[1;32m     14\u001b[0m \u001b[38;5;28mprint\u001b[39m(\u001b[38;5;124m\"\u001b[39m\u001b[38;5;124mAvailable tracks: \u001b[39m\u001b[38;5;132;01m%s\u001b[39;00m\u001b[38;5;124m\"\u001b[39m \u001b[38;5;241m%\u001b[39m \u001b[38;5;28mlen\u001b[39m(trackID_list))\n\u001b[0;32m---> 15\u001b[0m trackID_list \u001b[38;5;241m=\u001b[39m np\u001b[38;5;241m.\u001b[39mrandom\u001b[38;5;241m.\u001b[39mchoice(trackID_list, \u001b[43mnumber_of_tracks_per_file\u001b[49m)\n\u001b[1;32m     17\u001b[0m \u001b[38;5;28mprint\u001b[39m(\u001b[38;5;124m\"\u001b[39m\u001b[38;5;124msampled \u001b[39m\u001b[38;5;132;01m%s\u001b[39;00m\u001b[38;5;124m tracks for file \u001b[39m\u001b[38;5;132;01m%s\u001b[39;00m\u001b[38;5;124m\"\u001b[39m \u001b[38;5;241m%\u001b[39m (\u001b[38;5;28mlen\u001b[39m(trackID_list),tracking_file))\n\u001b[1;32m     18\u001b[0m track_counter \u001b[38;5;241m+\u001b[39m\u001b[38;5;241m=\u001b[39m \u001b[38;5;28mlen\u001b[39m(trackID_list)\n",
      "\u001b[0;31mNameError\u001b[0m: name 'number_of_tracks_per_file' is not defined"
     ]
    }
   ],
   "source": [
    "#key_select = key_file[key_file[\"condition\"] == ]\n",
    "#key_select = key_select[key_select[\"color\"] == color]\n",
    "key_select = key_file[key_file[\"treatment\"] == treatment] \n",
    "\n",
    "for index, row in key_select.iterrows():\n",
    "\n",
    "    tracking_file = \"tracking_data_%s_%s_%s.csv\" % (treatment, row[\"color\"], row[\"experimentID\"])\n",
    "                \n",
    "    data = pd.read_csv(data_folder+ tracking_file, low_memory=False)\n",
    "\n",
    "    observation_period_df = data[data[\"FRAME\"] <= parameters[\"end_phase_1\"]]\n",
    "\n",
    "    trackID_list = np.array(observation_period_df[\"TRACK_ID\"].unique())\n",
    "    print(\"Available tracks: %s\" % len(trackID_list))\n",
    "    trackID_list = np.random.choice(trackID_list, number_of_tracks_per_file)\n",
    "\n",
    "    print(\"sampled %s tracks for file %s\" % (len(trackID_list),tracking_file))\n",
    "    track_counter += len(trackID_list)\n",
    "                \n",
    "    for track_id in trackID_list:\n",
    "        single_track_df = observation_period_df[observation_period_df[\"TRACK_ID\"] == track_id]"
   ]
  },
  {
   "cell_type": "code",
   "execution_count": null,
   "id": "665bb341",
   "metadata": {},
   "outputs": [
    {
     "ename": "KeyError",
     "evalue": "'color'",
     "output_type": "error",
     "traceback": [
      "\u001b[0;31m---------------------------------------------------------------------------\u001b[0m",
      "\u001b[0;31mKeyError\u001b[0m                                  Traceback (most recent call last)",
      "File \u001b[0;32m~/anaconda3/envs/ec-tracking-analysis/lib/python3.8/site-packages/pandas/core/indexes/base.py:3803\u001b[0m, in \u001b[0;36mIndex.get_loc\u001b[0;34m(self, key, method, tolerance)\u001b[0m\n\u001b[1;32m   3802\u001b[0m \u001b[38;5;28;01mtry\u001b[39;00m:\n\u001b[0;32m-> 3803\u001b[0m     \u001b[38;5;28;01mreturn\u001b[39;00m \u001b[38;5;28;43mself\u001b[39;49m\u001b[38;5;241;43m.\u001b[39;49m\u001b[43m_engine\u001b[49m\u001b[38;5;241;43m.\u001b[39;49m\u001b[43mget_loc\u001b[49m\u001b[43m(\u001b[49m\u001b[43mcasted_key\u001b[49m\u001b[43m)\u001b[49m\n\u001b[1;32m   3804\u001b[0m \u001b[38;5;28;01mexcept\u001b[39;00m \u001b[38;5;167;01mKeyError\u001b[39;00m \u001b[38;5;28;01mas\u001b[39;00m err:\n",
      "File \u001b[0;32m~/anaconda3/envs/ec-tracking-analysis/lib/python3.8/site-packages/pandas/_libs/index.pyx:138\u001b[0m, in \u001b[0;36mpandas._libs.index.IndexEngine.get_loc\u001b[0;34m()\u001b[0m\n",
      "File \u001b[0;32m~/anaconda3/envs/ec-tracking-analysis/lib/python3.8/site-packages/pandas/_libs/index.pyx:165\u001b[0m, in \u001b[0;36mpandas._libs.index.IndexEngine.get_loc\u001b[0;34m()\u001b[0m\n",
      "File \u001b[0;32mpandas/_libs/hashtable_class_helper.pxi:5745\u001b[0m, in \u001b[0;36mpandas._libs.hashtable.PyObjectHashTable.get_item\u001b[0;34m()\u001b[0m\n",
      "File \u001b[0;32mpandas/_libs/hashtable_class_helper.pxi:5753\u001b[0m, in \u001b[0;36mpandas._libs.hashtable.PyObjectHashTable.get_item\u001b[0;34m()\u001b[0m\n",
      "\u001b[0;31mKeyError\u001b[0m: 'color'",
      "\nThe above exception was the direct cause of the following exception:\n",
      "\u001b[0;31mKeyError\u001b[0m                                  Traceback (most recent call last)",
      "Cell \u001b[0;32mIn[11], line 2\u001b[0m\n\u001b[1;32m      1\u001b[0m single_condition_data \u001b[38;5;241m=\u001b[39m tracking_data[tracking_data[\u001b[38;5;124m\"\u001b[39m\u001b[38;5;124mcondition\u001b[39m\u001b[38;5;124m\"\u001b[39m] \u001b[38;5;241m==\u001b[39m condition]\n\u001b[0;32m----> 2\u001b[0m single_color_data \u001b[38;5;241m=\u001b[39m single_condition_data[\u001b[43msingle_condition_data\u001b[49m\u001b[43m[\u001b[49m\u001b[38;5;124;43m\"\u001b[39;49m\u001b[38;5;124;43mcolor\u001b[39;49m\u001b[38;5;124;43m\"\u001b[39;49m\u001b[43m]\u001b[49m \u001b[38;5;241m==\u001b[39m color]\n\u001b[1;32m      3\u001b[0m single_color_data \u001b[38;5;241m=\u001b[39m single_color_data[data[\u001b[38;5;124m\"\u001b[39m\u001b[38;5;124mFRAME\u001b[39m\u001b[38;5;124m\"\u001b[39m] \u001b[38;5;241m<\u001b[39m\u001b[38;5;241m=\u001b[39m parameters[\u001b[38;5;124m\"\u001b[39m\u001b[38;5;124mobservation_period\u001b[39m\u001b[38;5;124m\"\u001b[39m][\u001b[38;5;241m1\u001b[39m]]\n\u001b[1;32m      4\u001b[0m ingle_color_data \u001b[38;5;241m=\u001b[39m single_color_data[data[\u001b[38;5;124m\"\u001b[39m\u001b[38;5;124mFRAME\u001b[39m\u001b[38;5;124m\"\u001b[39m] \u001b[38;5;241m>\u001b[39m\u001b[38;5;241m=\u001b[39m parameters[\u001b[38;5;124m\"\u001b[39m\u001b[38;5;124mobservation_period\u001b[39m\u001b[38;5;124m\"\u001b[39m][\u001b[38;5;241m0\u001b[39m]]\n",
      "File \u001b[0;32m~/anaconda3/envs/ec-tracking-analysis/lib/python3.8/site-packages/pandas/core/frame.py:3805\u001b[0m, in \u001b[0;36mDataFrame.__getitem__\u001b[0;34m(self, key)\u001b[0m\n\u001b[1;32m   3803\u001b[0m \u001b[38;5;28;01mif\u001b[39;00m \u001b[38;5;28mself\u001b[39m\u001b[38;5;241m.\u001b[39mcolumns\u001b[38;5;241m.\u001b[39mnlevels \u001b[38;5;241m>\u001b[39m \u001b[38;5;241m1\u001b[39m:\n\u001b[1;32m   3804\u001b[0m     \u001b[38;5;28;01mreturn\u001b[39;00m \u001b[38;5;28mself\u001b[39m\u001b[38;5;241m.\u001b[39m_getitem_multilevel(key)\n\u001b[0;32m-> 3805\u001b[0m indexer \u001b[38;5;241m=\u001b[39m \u001b[38;5;28;43mself\u001b[39;49m\u001b[38;5;241;43m.\u001b[39;49m\u001b[43mcolumns\u001b[49m\u001b[38;5;241;43m.\u001b[39;49m\u001b[43mget_loc\u001b[49m\u001b[43m(\u001b[49m\u001b[43mkey\u001b[49m\u001b[43m)\u001b[49m\n\u001b[1;32m   3806\u001b[0m \u001b[38;5;28;01mif\u001b[39;00m is_integer(indexer):\n\u001b[1;32m   3807\u001b[0m     indexer \u001b[38;5;241m=\u001b[39m [indexer]\n",
      "File \u001b[0;32m~/anaconda3/envs/ec-tracking-analysis/lib/python3.8/site-packages/pandas/core/indexes/base.py:3805\u001b[0m, in \u001b[0;36mIndex.get_loc\u001b[0;34m(self, key, method, tolerance)\u001b[0m\n\u001b[1;32m   3803\u001b[0m     \u001b[38;5;28;01mreturn\u001b[39;00m \u001b[38;5;28mself\u001b[39m\u001b[38;5;241m.\u001b[39m_engine\u001b[38;5;241m.\u001b[39mget_loc(casted_key)\n\u001b[1;32m   3804\u001b[0m \u001b[38;5;28;01mexcept\u001b[39;00m \u001b[38;5;167;01mKeyError\u001b[39;00m \u001b[38;5;28;01mas\u001b[39;00m err:\n\u001b[0;32m-> 3805\u001b[0m     \u001b[38;5;28;01mraise\u001b[39;00m \u001b[38;5;167;01mKeyError\u001b[39;00m(key) \u001b[38;5;28;01mfrom\u001b[39;00m \u001b[38;5;21;01merr\u001b[39;00m\n\u001b[1;32m   3806\u001b[0m \u001b[38;5;28;01mexcept\u001b[39;00m \u001b[38;5;167;01mTypeError\u001b[39;00m:\n\u001b[1;32m   3807\u001b[0m     \u001b[38;5;66;03m# If we have a listlike key, _check_indexing_error will raise\u001b[39;00m\n\u001b[1;32m   3808\u001b[0m     \u001b[38;5;66;03m#  InvalidIndexError. Otherwise we fall through and re-raise\u001b[39;00m\n\u001b[1;32m   3809\u001b[0m     \u001b[38;5;66;03m#  the TypeError.\u001b[39;00m\n\u001b[1;32m   3810\u001b[0m     \u001b[38;5;28mself\u001b[39m\u001b[38;5;241m.\u001b[39m_check_indexing_error(key)\n",
      "\u001b[0;31mKeyError\u001b[0m: 'color'"
     ]
    }
   ],
   "source": [
    "\n",
    "\n",
    "#single_condition_data = tracking_data[tracking_data[\"condition\"] == condition]\n",
    "#single_color_data = single_condition_data[single_condition_data[\"color\"] == color]\n",
    "#single_color_data = single_color_data[data[\"FRAME\"] <= parameters[\"observation_period\"][1]]\n",
    "#ingle_color_data = single_color_data[data[\"FRAME\"] >= parameters[\"observation_period\"][0]]"
   ]
  },
  {
   "cell_type": "code",
   "execution_count": null,
   "id": "a2e68f58",
   "metadata": {},
   "outputs": [],
   "source": [
    "fig, ax = plt.subplots(figsize=(9,9))\n",
    " trackID_list = np.array(phase_1_data_df[\"TRACK_ID\"].unique())\n",
    "                print(\"Available tracks: %s\" % len(trackID_list))\n",
    "                trackID_list = np.random.choice(trackID_list, number_of_tracks_per_file)\n",
    "                #phase_1_data_df = phase_1_data_df.sample(n = int(number_of_tracks_per_file))\n",
    "\n",
    "                print(\"sampled %s tracks for file %s\" % (len(trackID_list),tracking_file))\n",
    "                track_counter += len(trackID_list)\n",
    "                \n",
    "                for track_id in trackID_list:\n",
    "                    single_track_df = phase_1_data_df[phase_1_data_df[\"TRACK_ID\"] == track_id]\n",
    "\n",
    "                    #if len(single_track_df.index) < parameters[\"end_phase_1\"]:\n",
    "                    #    continue\n",
    "\n",
    "                    end_x = np.array(single_track_df[\"ORIGIN_X\"])[-1]\n",
    "                    end_y = np.array(single_track_df[\"ORIGIN_Y\"])[-1]\n",
    "\n",
    "                    total_dist_per_file += np.sqrt(end_x**2 + end_y**2)\n",
    "\n",
    "                    center_x += end_x\n",
    "                    center_y += end_y\n",
    "\n",
    "                    center_per_file_x += end_x\n",
    "                    center_per_file_y += end_y\n",
    "\n",
    "                    rel_vel = get_color_from_speed(-end_x)\n",
    "\n",
    "                    # ax.plot(single_track_df[\"ORIGIN_X\"],single_track_df[\"ORIGIN_Y\"], color = \"#ff7f00\")\n",
    "                    # ax.plot([end_x],[end_y], color = \"black\", marker = \"o\")\n",
    "\n",
    "                    # color by track id             \n",
    "                    #ax.plot(single_track_df[\"ORIGIN_X\"], single_track_df[\"ORIGIN_Y\"])\n",
    "                    #ax.plot([end_x], [end_y], marker=\"o\")\n",
    "\n",
    "                    # color by velocity   \n",
    "                    ax.plot(single_track_df[\"ORIGIN_X\"],single_track_df[\"ORIGIN_Y\"], color = cmap(rel_vel))\n",
    "                    ax.plot([end_x],[end_y], color = \"black\", marker = \"o\", alpha=0.5)  \n",
    "                    #ax.plot([end_x],[end_y], color = colors[index], marker = \"o\", alpha=0.5)"
   ]
  },
  {
   "cell_type": "code",
   "execution_count": null,
   "id": "724fee1d",
   "metadata": {
    "scrolled": true
   },
   "outputs": [],
   "source": [
    "# plot_trajectories_from_origin_per_condition(parameters, key_file, subfolder = \"tracking_data\", number_of_tracks_per_condition = parameters[\"number_of_cells_per_condition\"])"
   ]
  }
 ],
 "metadata": {
  "kernelspec": {
   "display_name": "Python 3 (ipykernel)",
   "language": "python",
   "name": "python3"
  },
  "language_info": {
   "codemirror_mode": {
    "name": "ipython",
    "version": 3
   },
   "file_extension": ".py",
   "mimetype": "text/x-python",
   "name": "python",
   "nbconvert_exporter": "python",
   "pygments_lexer": "ipython3",
   "version": "3.8.19"
  }
 },
 "nbformat": 4,
 "nbformat_minor": 5
}

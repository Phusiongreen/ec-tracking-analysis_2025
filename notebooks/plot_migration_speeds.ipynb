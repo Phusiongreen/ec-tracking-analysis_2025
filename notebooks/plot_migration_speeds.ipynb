{
 "cells": [
  {
   "cell_type": "code",
   "execution_count": null,
   "id": "c489d575",
   "metadata": {},
   "outputs": [],
   "source": [
    "import pandas as pd\n",
    "import seaborn as sns\n",
    "import numpy as np\n",
    "import matplotlib.pyplot as plt\n",
    "import sys\n",
    "sys.path.append(\"../\")\n",
    "\n",
    "from utils.io import read_parameters\n",
    "from statannot import add_stat_annotation"
   ]
  },
  {
   "cell_type": "code",
   "execution_count": null,
   "id": "411c8d88",
   "metadata": {},
   "outputs": [],
   "source": [
    "parameter_file  = \"../local/parameters.yml\"\n",
    "parameters = read_parameters(parameter_file)   \n",
    "\n",
    "base_folder = parameters[\"base_folder\"]\n",
    "tracking_data_files = parameters[\"tracking_data\"]\n",
    "\n",
    "plt.rcParams.update({'font.size': 14})"
   ]
  },
  {
   "cell_type": "code",
   "execution_count": null,
   "id": "79d99c60",
   "metadata": {},
   "outputs": [],
   "source": [
    "parameters"
   ]
  },
  {
   "cell_type": "code",
   "execution_count": null,
   "id": "1fcf5fad",
   "metadata": {},
   "outputs": [],
   "source": [
    "interval = parameters[\"time_lag\"]\n",
    "hue_order = [\"siScr\", \"siCdc42\", \"siRac1\"]"
   ]
  },
  {
   "cell_type": "markdown",
   "id": "7c7613bf",
   "metadata": {},
   "source": [
    "# load data"
   ]
  },
  {
   "cell_type": "code",
   "execution_count": null,
   "id": "99ef770a",
   "metadata": {},
   "outputs": [],
   "source": [
    "migration_speed_df = pd.read_csv(\"../data/migration_speeds.csv\")"
   ]
  },
  {
   "cell_type": "code",
   "execution_count": null,
   "id": "01ebfa5c",
   "metadata": {},
   "outputs": [],
   "source": [
    "migration_speed_df"
   ]
  },
  {
   "cell_type": "code",
   "execution_count": null,
   "id": "402cbef3",
   "metadata": {},
   "outputs": [],
   "source": [
    "migration_speed_df[\"FRAME\"].max()"
   ]
  },
  {
   "cell_type": "markdown",
   "id": "8321a96f",
   "metadata": {},
   "source": [
    "# velocity against flow grouped by condition and filename"
   ]
  },
  {
   "cell_type": "code",
   "execution_count": null,
   "id": "bab4bc70",
   "metadata": {},
   "outputs": [],
   "source": [
    "plt.rcParams.update({'font.size': 14})\n",
    "\n",
    "plot_migration_speeds = migration_speed_df.dropna()\n",
    "plot_migration_speeds = plot_migration_speeds[plot_migration_speeds[\"FRAME\"] > interval]\n",
    "\n",
    "#fig, ax = plt.subplots(len(intervals),figsize=(15,30))\n",
    "fig, ax = plt.subplots(1, figsize=(16,8))\n",
    "\n",
    "sns.lineplot(x = \"time_in_h\", y = \"vel_x_mu_per_h\", hue = \"condition\", hue_order = hue_order, \n",
    "             data = plot_migration_speeds, style=\"filename\", ax=ax, ci = 90) \n",
    "\n",
    "#sns.lineplot(x = \"FRAME\", y = \"vel_x\", hue = \"condition\", data = plot_migration_speeds, ax=ax, ci = 90) \n",
    "#interval_length_min = 5*intervals[i]\n",
    "#ax.set_title(\"time interval %s min\" % interval_length_min)\n",
    "ax.set_ylabel(\"velocity parallel to flow in microns/h\")\n",
    "ax.set_ylim(-7.0,7.0)\n",
    "ax.axhline(y = 0.0, color = 'r', linestyle = 'dashed')\n",
    "plt.legend(bbox_to_anchor=(1.05, 1), loc=2, borderaxespad=0.)\n",
    "plt.tight_layout()\n",
    "plt.savefig(\"velocity_parallel_to_flow_filename_all.pdf\")\n",
    "plt.savefig(\"velocity_parallel_to_flow_filename_all.png\")"
   ]
  },
  {
   "cell_type": "code",
   "execution_count": null,
   "id": "1031aa14",
   "metadata": {},
   "outputs": [],
   "source": [
    "plt.rcParams.update({'font.size': 14})\n",
    "\n",
    "plot_migration_speeds = migration_speed_df.dropna()\n",
    "plot_migration_speeds = plot_migration_speeds[plot_migration_speeds[\"FRAME\"] > interval]\n",
    "plot_migration_speeds = plot_migration_speeds[plot_migration_speeds[\"filename\"] != \"/siScr/SUM_230420_siScr_20dyn_TrackMate.csv\"]\n",
    "plot_migration_speeds = plot_migration_speeds[plot_migration_speeds[\"filename\"] != \"/siRac1/SUM_230420_siRac1_TrackMate.csv\"]\n",
    "\n",
    "\n",
    "#fig, ax = plt.subplots(len(intervals),figsize=(15,30))\n",
    "fig, ax = plt.subplots(1, figsize=(16,8))\n",
    "\n",
    "sns.lineplot(x = \"time_in_h\", y = \"vel_x_mu_per_h\", hue = \"condition\", hue_order = hue_order, \n",
    "             data = plot_migration_speeds, style=\"filename\", ax=ax, ci = 90) \n",
    "\n",
    "#sns.lineplot(x = \"FRAME\", y = \"vel_x\", hue = \"condition\", data = plot_migration_speeds, ax=ax, ci = 90) \n",
    "#interval_length_min = 5*intervals[i]\n",
    "#ax.set_title(\"time interval %s min\" % interval_length_min)\n",
    "ax.set_ylabel(\"velocity parallel to flow in microns/h\")\n",
    "ax.set_ylim(-7.0,7.0)\n",
    "ax.axhline(y = 0.0, color = 'r', linestyle = 'dashed')\n",
    "plt.legend(bbox_to_anchor=(1.05, 1), loc=2, borderaxespad=0.)\n",
    "plt.tight_layout()\n",
    "plt.savefig(\"velocity_parallel_to_flow_filename_filtered.pdf\")\n",
    "plt.savefig(\"velocity_parallel_to_flow_filename_filtered.png\")"
   ]
  },
  {
   "cell_type": "markdown",
   "id": "7b5b8927",
   "metadata": {},
   "source": [
    "# velocity against flow grouped by condition"
   ]
  },
  {
   "cell_type": "code",
   "execution_count": null,
   "id": "3c3fe301",
   "metadata": {},
   "outputs": [],
   "source": [
    "plt.rcParams.update({'font.size': 14})\n",
    "\n",
    "plot_migration_speeds = migration_speed_df.dropna()\n",
    "plot_migration_speeds = plot_migration_speeds[plot_migration_speeds[\"FRAME\"] > interval]\n",
    "\n",
    "#fig, ax = plt.subplots(len(intervals),figsize=(15,30))\n",
    "fig, ax = plt.subplots(1, figsize=(16,8))\n",
    "\n",
    "#sns.lineplot(x = \"time_in_h\", y = \"vel_x_mu_per_h\", hue = \"condition\", data = plot_migration_speeds, ax=ax, ci = 90) \n",
    "\n",
    "sns.lineplot(x = \"time_in_h\", y = \"vel_x_mu_per_h\", hue = \"condition\", hue_order = hue_order, \n",
    "             data = plot_migration_speeds, ax=ax, ci = 90) \n",
    "\n",
    "\n",
    "#sns.lineplot(x = \"FRAME\", y = \"vel_x\", hue = \"condition\", data = plot_migration_speeds, ax=ax, ci = 90) \n",
    "#interval_length_min = 5*intervals[i]\n",
    "#ax.set_title(\"time interval %s min\" % interval_length_min)\n",
    "ax.set_ylabel(\"velocity parallel to flow in microns/h\")\n",
    "ax.set_ylim(-7.0,7.0)\n",
    "#plt.legend(bbox_to_anchor=(1.05, 1), loc=2, borderaxespad=0.)\n",
    "ax.set_xlabel(\"time in h\")\n",
    "#plt.tight_layout()\n",
    "ax.axhline(y = 0.0, color = 'r', linestyle = 'dashed')\n",
    "plt.savefig(\"velocity_parallel_to_flow.pdf\")\n",
    "plt.savefig(\"velocity_parallel_to_flow.png\")"
   ]
  },
  {
   "cell_type": "code",
   "execution_count": null,
   "id": "698f303d",
   "metadata": {},
   "outputs": [],
   "source": [
    "plot_migration_speeds = migration_speed_df.dropna()\n",
    "plot_migration_speeds = plot_migration_speeds[plot_migration_speeds[\"FRAME\"] > interval]\n",
    "\n",
    "\n",
    "plt.rcParams.update({'font.size': 14})\n",
    "\n",
    "#fig, ax = plt.subplots(len(intervals),figsize=(15,30))\n",
    "fig, ax = plt.subplots(1, figsize=(16,8))\n",
    "\n",
    "#sns.lineplot(x = \"time_in_h\", y = \"vel_x_mu_per_h\", hue = \"condition\", data = plot_migration_speeds, ax=ax, ci = 90) \n",
    "\n",
    "sns.lineplot(x = \"time_in_h\", y = \"vel_mu_per_h\", hue = \"condition\", hue_order = hue_order, data = plot_migration_speeds, ax=ax, ci = 90) \n",
    "\n",
    "\n",
    "#sns.lineplot(x = \"FRAME\", y = \"vel_x\", hue = \"condition\", data = plot_migration_speeds, ax=ax, ci = 90) \n",
    "#interval_length_min = 5*intervals[i]\n",
    "#ax.set_title(\"time interval %s min\" % interval_length_min)\n",
    "ax.set_ylabel(\"velocity in microns/h\")\n",
    "ax.set_xlabel(\"time in h\")\n",
    "ax.set_ylim(0.0,12.0)\n",
    "#plt.legend(bbox_to_anchor=(1.05, 1), loc=2, borderaxespad=0.)\n",
    "#plt.tight_layout()\n",
    "ax.axhline(y = 0.0, color = 'r', linestyle = 'dashed')\n",
    "plt.savefig(\"velocity.pdf\")\n",
    "plt.savefig(\"velocity.png\")"
   ]
  },
  {
   "cell_type": "code",
   "execution_count": null,
   "id": "0442816b",
   "metadata": {},
   "outputs": [],
   "source": [
    "plt.rcParams.update({'font.size': 14})\n",
    "\n",
    "plot_migration_speeds = migration_speed_df.dropna()\n",
    "plot_migration_speeds = plot_migration_speeds[plot_migration_speeds[\"FRAME\"] > interval]\n",
    "plot_migration_speeds = plot_migration_speeds[plot_migration_speeds[\"filename\"] != \"/siScr/SUM_230420_siScr_20dyn_TrackMate.csv\"]\n",
    "plot_migration_speeds = plot_migration_speeds[plot_migration_speeds[\"filename\"] != \"/siRac1/SUM_230420_siRac1_TrackMate.csv\"]\n",
    "\n",
    "\n",
    "#fig, ax = plt.subplots(len(intervals),figsize=(15,30))\n",
    "fig, ax = plt.subplots(1, figsize=(16,8))\n",
    "\n",
    "sns.lineplot(x = \"time_in_h\", y = \"vel_mu_per_h\", hue = \"condition\", hue_order = hue_order, \n",
    "             data = plot_migration_speeds, style=\"filename\", ax=ax, ci = 90) \n",
    "\n",
    "#sns.lineplot(x = \"FRAME\", y = \"vel_x\", hue = \"condition\", data = plot_migration_speeds, ax=ax, ci = 90) \n",
    "#interval_length_min = 5*intervals[i]\n",
    "#ax.set_title(\"time interval %s min\" % interval_length_min)\n",
    "ax.set_ylabel(\"velocity against flow in microns/h\")\n",
    "ax.set_ylim(0.0,12.0)\n",
    "ax.axhline(y = 0.0, color = 'r', linestyle = 'dashed')\n",
    "plt.legend(bbox_to_anchor=(1.05, 1), loc=2, borderaxespad=0.)\n",
    "plt.tight_layout()\n",
    "plt.savefig(\"velocity_filename_filtered.pdf\")\n",
    "plt.savefig(\"velocity_filename_filtered.png\")"
   ]
  },
  {
   "cell_type": "code",
   "execution_count": null,
   "id": "3be3bc3a",
   "metadata": {},
   "outputs": [],
   "source": [
    "plot_migration_speeds = migration_speed_df.dropna()\n",
    "plot_migration_speeds = plot_migration_speeds[plot_migration_speeds[\"FRAME\"] > interval]\n",
    "plot_migration_speeds = plot_migration_speeds[plot_migration_speeds[\"filename\"] != \"/siScr/SUM_230420_siScr_20dyn_TrackMate.csv\"]\n",
    "plot_migration_speeds = plot_migration_speeds[plot_migration_speeds[\"filename\"] != \"/siRac1/SUM_230420_siRac1_TrackMate.csv\"]\n",
    "\n",
    "\n",
    "#fig, ax = plt.subplots(len(intervals),figsize=(15,30))\n",
    "fig, ax = plt.subplots(1, figsize=(16,8))\n",
    "\n",
    "sns.lineplot(x = \"time_in_h\", y = \"vel_y_mu_per_h\", hue = \"condition\", hue_order = hue_order, \n",
    "             data = plot_migration_speeds, style=\"filename\", ax=ax, ci = 90) \n",
    "\n",
    "#sns.lineplot(x = \"FRAME\", y = \"vel_x\", hue = \"condition\", data = plot_migration_speeds, ax=ax, ci = 90) \n",
    "#interval_length_min = 5*intervals[i]\n",
    "#ax.set_title(\"time interval %s min\" % interval_length_min)\n",
    "ax.set_ylabel(\"velocity perpendicular to flow in microns/h\")\n",
    "ax.set_ylim(-7.0,7.0)\n",
    "ax.axhline(y = 0.0, color = 'r', linestyle = 'dashed')\n",
    "plt.legend(bbox_to_anchor=(1.05, 1), loc=2, borderaxespad=0.)\n",
    "plt.tight_layout()\n",
    "plt.savefig(\"velocity_perpendicular_to_flow_filename_filtered.pdf\")\n",
    "plt.savefig(\"velocity_perpendicular_to_flow_filename_filtered.png\")"
   ]
  },
  {
   "cell_type": "code",
   "execution_count": null,
   "id": "bfbeb2f2",
   "metadata": {},
   "outputs": [],
   "source": [
    "plot_migration_speeds = migration_speed_df.dropna()\n",
    "plot_migration_speeds = plot_migration_speeds[plot_migration_speeds[\"FRAME\"] > interval]\n",
    "plot_migration_speeds = plot_migration_speeds[plot_migration_speeds[\"filename\"] != \"/siScr/SUM_230420_siScr_20dyn_TrackMate.csv\"]\n",
    "plot_migration_speeds = plot_migration_speeds[plot_migration_speeds[\"filename\"] != \"/siRac1/SUM_230420_siRac1_TrackMate.csv\"]\n",
    "\n",
    "#fig, ax = plt.subplots(len(intervals),figsize=(15,30))\n",
    "fig, ax = plt.subplots(1, figsize=(15,10))\n",
    "\n",
    "sns.lineplot(x = \"time_in_h\", y = \"vel_y_mu_per_h\", hue = \"condition\", data = plot_migration_speeds, ax=ax, ci = 90) \n",
    "\n",
    "#sns.lineplot(x = \"FRAME\", y = \"vel_y\", hue = \"condition\", data = plot_migration_speeds, ax=ax, ci = 90) \n",
    "#interval_length_min = 5*intervals[i]\n",
    "#ax.set_title(\"time interval %s min\" % interval_length_min)\n",
    "ax.set_ylabel(\"velocity in microns/h\")\n",
    "ax.set_ylim(-7.0,7.0)\n",
    "ax.axhline(y = 0.0, color = 'r', linestyle = 'dashed')\n",
    "\n",
    "plt.savefig(\"velocity_perpendicular_to_flow.pdf\")\n",
    "plt.savefig(\"velocity_perpendicular_to_flow.png\")"
   ]
  },
  {
   "cell_type": "code",
   "execution_count": null,
   "id": "b5bac048",
   "metadata": {},
   "outputs": [],
   "source": [
    "single_time_point = plot_migration_speeds[plot_migration_speeds[\"FRAME\"]==24]\n",
    "#single_time_point.groupby([\"filename\",\"condition\"])[\"vel_x\"].mean()\n",
    "\n",
    "display(single_time_point)\n",
    "plot_data = single_time_point.groupby([\"condition\", \"filename\"])[\"vel_x_mu_per_h\"].mean().reset_index()\n",
    "display(plot_data)"
   ]
  },
  {
   "cell_type": "code",
   "execution_count": null,
   "id": "565a01c5",
   "metadata": {},
   "outputs": [],
   "source": [
    "fig, ax = plt.subplots(1, figsize=(10,10))\n",
    "\n",
    "plt.rcParams.update({'font.size': 14})\n",
    "\n",
    "\n",
    "\n",
    "single_time_point = plot_migration_speeds[plot_migration_speeds[\"FRAME\"]==24]\n",
    "plot_data = single_time_point.groupby([\"condition\", \"filename\"])[\"vel_x_mu_per_h\"].mean().reset_index()\n",
    "#plot_data = single_time_point.copy()\n",
    "\n",
    "plot_data = plot_data[plot_data[\"filename\"] != \"/siScr/SUM_230420_siScr_20dyn_TrackMate.csv\"]\n",
    "plot_data = plot_data[plot_data[\"filename\"] != \"/siRac1/SUM_230420_siRac1_TrackMate.csv\"]\n",
    "\n",
    "sns.boxplot(data = plot_data, x = \"condition\", order = hue_order, y = \"vel_x_mu_per_h\" )\n",
    "sns.swarmplot(data = plot_data, x = \"condition\", order = hue_order, y = \"vel_x_mu_per_h\" , color=\"black\", size =10)\n",
    "test_results = add_stat_annotation(ax, data=plot_data, y = \"vel_x_mu_per_h\", x = \"condition\", order = hue_order, \n",
    "                                   #order=order,\n",
    "                                   box_pairs=[(\"siScr\", \"siCdc42\"), (\"siScr\", \"siRac1\"), (\"siCdc42\", \"siRac1\")],\n",
    "                                   test='t-test_welch', text_format='star',\n",
    "                                   loc='inside', verbose=2)\n",
    "\n",
    "ax.set_ylabel(\"velocity against flow in microns/h\")\n",
    "ax.set_title(\"velocity against flow after 2h\")\n",
    "ax.set_ylim(-6.5,0)\n",
    "\n",
    "plt.savefig(\"velocity_against_flow_box_plot.png\")\n",
    "plt.savefig(\"velocity_against_flow_box_plot.pdf\")\n",
    "#plt.legend(bbox_to_anchor=(1.05, 1), loc=2, borderaxespad=0.)\n",
    "#plt.legend(loc=2, borderaxespad=0.)"
   ]
  },
  {
   "cell_type": "code",
   "execution_count": null,
   "id": "273568aa",
   "metadata": {},
   "outputs": [],
   "source": [
    "fig, ax = plt.subplots(1, figsize=(10,10))\n",
    "\n",
    "single_time_point = plot_migration_speeds[plot_migration_speeds[\"FRAME\"]==24]\n",
    "\n",
    "plot_data = single_time_point.groupby([\"condition\", \"filename\"])[\"vel_mu_per_h\"].mean().reset_index()\n",
    "\n",
    "plot_data = plot_data[plot_data[\"filename\"] != \"/siScr/SUM_230420_siScr_20dyn_TrackMate.csv\"]\n",
    "plot_data = plot_data[plot_data[\"filename\"] != \"/siRac1/SUM_230420_siRac1_TrackMate.csv\"]\n",
    "\n",
    "sns.boxplot(data = plot_data, x = \"condition\", order = hue_order, y = \"vel_mu_per_h\" )\n",
    "sns.swarmplot(data = plot_data, x = \"condition\", order = hue_order, y = \"vel_mu_per_h\" , color=\"black\", size =10)\n",
    "test_results = add_stat_annotation(ax, data=plot_data, y = \"vel_mu_per_h\", x = \"condition\", order = hue_order, \n",
    "                                   #order=order,\n",
    "                                   box_pairs=[(\"siScr\", \"siCdc42\"), (\"siScr\", \"siRac1\"), (\"siCdc42\", \"siRac1\")],\n",
    "                                   test='t-test_welch', \n",
    "                                   text_format='star',\n",
    "                                   loc='inside', verbose=2)\n",
    "\n",
    "\n",
    "ax.set_ylabel(\"velocity in microns/h\")\n",
    "ax.set_title(\"velocity after 2h\")\n",
    "ax.set_ylim(0,12.0)\n",
    "plt.savefig(\"velocity_box_plot.png\")\n",
    "plt.savefig(\"velocity_box_plot.pdf\")"
   ]
  },
  {
   "cell_type": "code",
   "execution_count": null,
   "id": "341ed461",
   "metadata": {},
   "outputs": [],
   "source": [
    "plot_data = single_time_point.groupby([\"condition\", \"filename\"])[\"vel_mu_per_h\"].mean().reset_index()\n",
    "fig, ax = plt.subplots(1, figsize=(10,10))\n",
    "sns.boxplot(data = plot_data, x = \"condition\", y = \"vel_mu_per_h\" )\n",
    "sns.swarmplot(data = plot_data, x = \"condition\", y = \"vel_mu_per_h\" , color=\"black\", size =10)"
   ]
  }
 ],
 "metadata": {
  "kernelspec": {
   "display_name": "Python 3 (ipykernel)",
   "language": "python",
   "name": "python3"
  },
  "language_info": {
   "codemirror_mode": {
    "name": "ipython",
    "version": 3
   },
   "file_extension": ".py",
   "mimetype": "text/x-python",
   "name": "python",
   "nbconvert_exporter": "python",
   "pygments_lexer": "ipython3",
   "version": "3.8.12"
  }
 },
 "nbformat": 4,
 "nbformat_minor": 5
}

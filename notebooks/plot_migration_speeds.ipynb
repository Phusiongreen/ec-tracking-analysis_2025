{
 "cells": [
  {
   "cell_type": "code",
   "execution_count": null,
   "id": "c489d575",
   "metadata": {},
   "outputs": [],
   "source": [
    "import pandas as pd\n",
    "import seaborn as sns\n",
    "import numpy as np\n",
    "import matplotlib.pyplot as plt\n",
    "import sys\n",
    "sys.path.append(\"../\")\n",
    "\n",
    "from utils.io import read_parameters"
   ]
  },
  {
   "cell_type": "code",
   "execution_count": null,
   "id": "411c8d88",
   "metadata": {},
   "outputs": [],
   "source": [
    "parameter_file  = \"../local/parameters.yml\"\n",
    "parameters = read_parameters(parameter_file)   \n",
    "\n",
    "base_folder = parameters[\"base_folder\"]\n",
    "tracking_data_files = parameters[\"tracking_data\"]"
   ]
  },
  {
   "cell_type": "code",
   "execution_count": null,
   "id": "79d99c60",
   "metadata": {},
   "outputs": [],
   "source": [
    "parameters"
   ]
  },
  {
   "cell_type": "code",
   "execution_count": null,
   "id": "1fcf5fad",
   "metadata": {},
   "outputs": [],
   "source": [
    "interval = parameters[\"time_lag\"]"
   ]
  },
  {
   "cell_type": "markdown",
   "id": "7c7613bf",
   "metadata": {},
   "source": [
    "# load data"
   ]
  },
  {
   "cell_type": "code",
   "execution_count": null,
   "id": "99ef770a",
   "metadata": {},
   "outputs": [],
   "source": [
    "migration_speed_df = pd.read_csv(\"../data/migration_speeds.csv\")"
   ]
  },
  {
   "cell_type": "code",
   "execution_count": null,
   "id": "01ebfa5c",
   "metadata": {},
   "outputs": [],
   "source": [
    "migration_speed_df"
   ]
  },
  {
   "cell_type": "code",
   "execution_count": null,
   "id": "402cbef3",
   "metadata": {},
   "outputs": [],
   "source": [
    "migration_speed_df[\"FRAME\"].max()"
   ]
  },
  {
   "cell_type": "code",
   "execution_count": null,
   "id": "3c3fe301",
   "metadata": {},
   "outputs": [],
   "source": [
    "plot_migration_speeds = migration_speed_df.dropna()\n",
    "plot_migration_speeds = plot_migration_speeds[plot_migration_speeds[\"FRAME\"] > interval]\n",
    "\n",
    "#fig, ax = plt.subplots(len(intervals),figsize=(15,30))\n",
    "fig, ax = plt.subplots(1, figsize=(15,10))\n",
    "\n",
    "#sns.lineplot(x = \"time_in_h\", y = \"vel_x_mu_per_h\", hue = \"condition\", data = plot_migration_speeds, ax=ax, ci = 90) \n",
    "\n",
    "sns.lineplot(x = \"time_in_h\", y = \"vel_x_mu_per_h\", hue = \"condition\", data = plot_migration_speeds, ax=ax, ci = 90) \n",
    "\n",
    "\n",
    "#sns.lineplot(x = \"FRAME\", y = \"vel_x\", hue = \"condition\", data = plot_migration_speeds, ax=ax, ci = 90) \n",
    "#interval_length_min = 5*intervals[i]\n",
    "#ax.set_title(\"time interval %s min\" % interval_length_min)\n",
    "ax.set_ylabel(\"velocity in microns/h\")\n",
    "ax.set_ylim(-7.0,7.0)\n",
    "ax.axhline(y = 0.0, color = 'r', linestyle = 'dashed')\n",
    "plt.savefig(\"velocity_parallel_to_flow.pdf\")"
   ]
  },
  {
   "cell_type": "code",
   "execution_count": null,
   "id": "0038d7cb",
   "metadata": {},
   "outputs": [],
   "source": [
    "plot_migration_speeds = migration_speed_df.dropna()\n",
    "plot_migration_speeds = plot_migration_speeds[plot_migration_speeds[\"FRAME\"] > interval]\n",
    "plot_migration_speeds = plot_migration_speeds[plot_migration_speeds[\"filename\"] != \"/siScr/SUM_230420_siScr_20dyn_TrackMate.csv\"]\n",
    "plot_migration_speeds = plot_migration_speeds[plot_migration_speeds[\"filename\"] != \"/siRac1/SUM_230420_siRac1_TrackMate.csv\"]\n",
    "\n",
    "#fig, ax = plt.subplots(len(intervals),figsize=(15,30))\n",
    "fig, ax = plt.subplots(1, figsize=(15,10))\n",
    "\n",
    "sns.lineplot(x = \"time_in_h\", y = \"vel_x_mu_per_h\", hue = \"condition\", data = plot_migration_speeds, ax=ax, ci = 90) \n",
    "\n",
    "#sns.lineplot(x = \"time_in_h\", y = \"vel_x_mu_per_h\", hue = \"condition\", data = plot_migration_speeds, ax=ax, ci = 90) \n",
    "\n",
    "\n",
    "#sns.lineplot(x = \"FRAME\", y = \"vel_x\", hue = \"condition\", data = plot_migration_speeds, ax=ax, ci = 90) \n",
    "#interval_length_min = 5*intervals[i]\n",
    "#ax.set_title(\"time interval %s min\" % interval_length_min)\n",
    "ax.set_ylabel(\"velocity in microns/h\")\n",
    "ax.set_ylim(-7.0,7.0)\n",
    "ax.axhline(y = 0.0, color = 'r', linestyle = 'dashed')\n",
    "plt.savefig(\"velocity_parallel_to_flow.pdf\")"
   ]
  },
  {
   "cell_type": "code",
   "execution_count": null,
   "id": "242d5faa",
   "metadata": {},
   "outputs": [],
   "source": [
    "plot_migration_speeds = migration_speed_df.dropna()\n",
    "plot_migration_speeds = plot_migration_speeds[plot_migration_speeds[\"FRAME\"] > interval]\n",
    "\n",
    "#fig, ax = plt.subplots(len(intervals),figsize=(15,30))\n",
    "fig, ax = plt.subplots(1, figsize=(15,10))\n",
    "\n",
    "sns.lineplot(x = \"time_in_h\", y = \"vel_x_mu_per_h\", hue = \"filename\", data = plot_migration_speeds, ax=ax, ci = 90) \n",
    "\n",
    "#sns.lineplot(x = \"FRAME\", y = \"vel_x\", hue = \"condition\", data = plot_migration_speeds, ax=ax, ci = 90) \n",
    "#interval_length_min = 5*intervals[i]\n",
    "#ax.set_title(\"time interval %s min\" % interval_length_min)\n",
    "ax.set_ylabel(\"velocity in microns/h\")\n",
    "ax.set_ylim(-7.0,7.0)\n",
    "ax.axhline(y = 0.0, color = 'r', linestyle = 'dashed')\n",
    "plt.savefig(\"velocity_parallel_to_flow_filename.pdf\")"
   ]
  },
  {
   "cell_type": "code",
   "execution_count": null,
   "id": "bab4bc70",
   "metadata": {},
   "outputs": [],
   "source": [
    "plot_migration_speeds = migration_speed_df.dropna()\n",
    "plot_migration_speeds = plot_migration_speeds[plot_migration_speeds[\"FRAME\"] > interval]\n",
    "plot_migration_speeds = plot_migration_speeds[plot_migration_speeds[\"filename\"] != \"/siScr/SUM_230420_siScr_20dyn_TrackMate.csv\"]\n",
    "plot_migration_speeds = plot_migration_speeds[plot_migration_speeds[\"filename\"] != \"/siRac1/SUM_230420_siRac1_TrackMate.csv\"]\n",
    "\n",
    "\n",
    "#fig, ax = plt.subplots(len(intervals),figsize=(15,30))\n",
    "fig, ax = plt.subplots(1, figsize=(15,10))\n",
    "\n",
    "sns.lineplot(x = \"time_in_h\", y = \"vel_x_mu_per_h\", hue = \"condition\", data = plot_migration_speeds, style=\"filename\", ax=ax, ci = 90) \n",
    "\n",
    "#sns.lineplot(x = \"FRAME\", y = \"vel_x\", hue = \"condition\", data = plot_migration_speeds, ax=ax, ci = 90) \n",
    "#interval_length_min = 5*intervals[i]\n",
    "#ax.set_title(\"time interval %s min\" % interval_length_min)\n",
    "ax.set_ylabel(\"velocity in microns/h\")\n",
    "ax.set_ylim(-7.0,7.0)\n",
    "ax.axhline(y = 0.0, color = 'r', linestyle = 'dashed')\n",
    "plt.savefig(\"velocity_parallel_to_flow_filename.pdf\")"
   ]
  },
  {
   "cell_type": "code",
   "execution_count": null,
   "id": "1031aa14",
   "metadata": {},
   "outputs": [],
   "source": [
    "plot_migration_speeds = migration_speed_df.dropna()\n",
    "plot_migration_speeds = plot_migration_speeds[plot_migration_speeds[\"FRAME\"] > interval]\n",
    "plot_migration_speeds = plot_migration_speeds[plot_migration_speeds[\"filename\"] != \"/siScr/SUM_230420_siScr_20dyn_TrackMate.csv\"]\n",
    "plot_migration_speeds = plot_migration_speeds[plot_migration_speeds[\"filename\"] != \"/siRac1/SUM_230420_siRac1_TrackMate.csv\"]\n",
    "\n",
    "\n",
    "#fig, ax = plt.subplots(len(intervals),figsize=(15,30))\n",
    "fig, ax = plt.subplots(1, figsize=(15,10))\n",
    "\n",
    "sns.lineplot(x = \"FRAME\", y = \"vel_x_mu_per_h\", hue = \"condition\", data = plot_migration_speeds, style=\"filename\", ax=ax, ci = 90) \n",
    "\n",
    "#sns.lineplot(x = \"FRAME\", y = \"vel_x\", hue = \"condition\", data = plot_migration_speeds, ax=ax, ci = 90) \n",
    "#interval_length_min = 5*intervals[i]\n",
    "#ax.set_title(\"time interval %s min\" % interval_length_min)\n",
    "ax.set_ylabel(\"velocity in microns/h\")\n",
    "ax.set_ylim(-7.0,7.0)\n",
    "ax.axhline(y = 0.0, color = 'r', linestyle = 'dashed')\n",
    "plt.savefig(\"velocity_parallel_to_flow_filename.pdf\")"
   ]
  },
  {
   "cell_type": "code",
   "execution_count": null,
   "id": "b5bac048",
   "metadata": {},
   "outputs": [],
   "source": [
    "single_time_point = plot_migration_speeds[plot_migration_speeds[\"FRAME\"]==192]\n",
    "#single_time_point.groupby([\"filename\",\"condition\"])[\"vel_x\"].mean()\n",
    "display(single_time_point)\n",
    "plot_data = single_time_point.groupby([\"condition\", \"filename\"])[\"vel_x_mu_per_h\"].mean().reset_index()\n",
    "display(plot_data)"
   ]
  },
  {
   "cell_type": "code",
   "execution_count": null,
   "id": "565a01c5",
   "metadata": {},
   "outputs": [],
   "source": [
    "\n",
    "fig, ax = plt.subplots(1, figsize=(10,10))\n",
    "sns.boxplot(data = plot_data, x = \"condition\", y = \"vel_x_mu_per_h\" )\n",
    "sns.swarmplot(data = plot_data, x = \"condition\", y = \"vel_x_mu_per_h\" , color=\"black\", size =10)"
   ]
  },
  {
   "cell_type": "code",
   "execution_count": null,
   "id": "341ed461",
   "metadata": {},
   "outputs": [],
   "source": [
    "plot_data = single_time_point.groupby([\"condition\", \"filename\"])[\"vel_mu_per_h\"].mean().reset_index()\n",
    "fig, ax = plt.subplots(1, figsize=(10,10))\n",
    "sns.boxplot(data = plot_data, x = \"condition\", y = \"vel_mu_per_h\" )\n",
    "sns.swarmplot(data = plot_data, x = \"condition\", y = \"vel_mu_per_h\" , color=\"black\", size =10)"
   ]
  },
  {
   "cell_type": "code",
   "execution_count": null,
   "id": "9ef553ae",
   "metadata": {},
   "outputs": [],
   "source": []
  },
  {
   "cell_type": "code",
   "execution_count": null,
   "id": "59e9bce0",
   "metadata": {},
   "outputs": [],
   "source": [
    "plot_migration_speeds = migration_speed_df.dropna()\n",
    "plot_migration_speeds = plot_migration_speeds[plot_migration_speeds[\"FRAME\"] > interval]\n",
    "plot_migration_speeds = plot_migration_speeds[plot_migration_speeds[\"filename\"] != \"/siScr/SUM_230420_siScr_20dyn_TrackMate.csv\"]\n",
    "plot_migration_speeds = plot_migration_speeds[plot_migration_speeds[\"filename\"] != \"/siRac1/SUM_230420_siRac1_TrackMate.csv\"]\n",
    "\n",
    "\n",
    "#fig, ax = plt.subplots(len(intervals),figsize=(15,30))\n",
    "fig, ax = plt.subplots(1, figsize=(15,10))\n",
    "\n",
    "sns.lineplot(x = \"time_in_h\", y = \"vel_x_mu_per_h\", hue = \"condition\", data = plot_migration_speeds, style=\"filename\", ax=ax, ci = 90) \n",
    "\n",
    "#sns.lineplot(x = \"FRAME\", y = \"vel_x\", hue = \"condition\", data = plot_migration_speeds, ax=ax, ci = 90) \n",
    "#interval_length_min = 5*intervals[i]\n",
    "#ax.set_title(\"time interval %s min\" % interval_length_min)\n",
    "ax.set_ylabel(\"velocity in microns/h\")\n",
    "ax.set_ylim(-7.0,7.0)\n",
    "ax.axhline(y = 0.0, color = 'r', linestyle = 'dashed')\n",
    "plt.savefig(\"velocity_parallel_to_flow_filename.pdf\")"
   ]
  },
  {
   "cell_type": "code",
   "execution_count": null,
   "id": "34fd5dd8",
   "metadata": {},
   "outputs": [],
   "source": [
    "plot_migration_speeds = migration_speed_df.dropna()\n",
    "plot_migration_speeds = plot_migration_speeds[plot_migration_speeds[\"FRAME\"] > interval]\n",
    "\n",
    "#fig, ax = plt.subplots(len(intervals),figsize=(15,30))\n",
    "fig, ax = plt.subplots(1, figsize=(15,10))\n",
    "\n",
    "sns.lineplot(x = \"time_in_h\", y = \"vel_mu_per_h\", hue = \"condition\", data = plot_migration_speeds, ax=ax, ci = 90) \n",
    "#sns.lineplot(x = \"FRAME\", y = \"vel\", hue = \"condition\", data = plot_migration_speeds, ax=ax, ci = 90) \n",
    "\n",
    "#interval_length_min = 5*intervals[i]\n",
    "#ax.set_title(\"time interval %s min\" % interval_length_min)\n",
    "ax.set_ylabel(\"velocity in microns/h\")\n",
    "ax.set_ylim(0,10.0)\n",
    "ax.axhline(y = 0.0, color = 'r', linestyle = 'dashed')\n",
    "#ax.set_ylim(0.0,1.0)\n",
    "plt.savefig(\"velocity.pdf\")"
   ]
  },
  {
   "cell_type": "code",
   "execution_count": null,
   "id": "7de621c5",
   "metadata": {},
   "outputs": [],
   "source": [
    "plot_migration_speeds = migration_speed_df.dropna()\n",
    "plot_migration_speeds = plot_migration_speeds[plot_migration_speeds[\"FRAME\"] > interval]\n",
    "plot_migration_speeds = plot_migration_speeds[plot_migration_speeds[\"filename\"] != \"/siScr/SUM_230420_siScr_20dyn_TrackMate.csv\"]\n",
    "plot_migration_speeds = plot_migration_speeds[plot_migration_speeds[\"filename\"] != \"/siRac1/SUM_230420_siRac1_TrackMate.csv\"]\n",
    "\n",
    "#fig, ax = plt.subplots(len(intervals),figsize=(15,30))\n",
    "fig, ax = plt.subplots(1, figsize=(15,10))\n",
    "\n",
    "sns.lineplot(x = \"time_in_h\", y = \"vel_mu_per_h\", hue = \"condition\", data = plot_migration_speeds, ax=ax, ci = 90) \n",
    "#sns.lineplot(x = \"FRAME\", y = \"vel\", hue = \"condition\", data = plot_migration_speeds, ax=ax, ci = 90) \n",
    "\n",
    "#interval_length_min = 5*intervals[i]\n",
    "#ax.set_title(\"time interval %s min\" % interval_length_min)\n",
    "ax.set_ylabel(\"velocity in microns/h\")\n",
    "ax.set_ylim(0,10.0)\n",
    "ax.axhline(y = 0.0, color = 'r', linestyle = 'dashed')\n",
    "#ax.set_ylim(0.0,1.0)\n",
    "plt.savefig(\"velocity.pdf\")"
   ]
  },
  {
   "cell_type": "code",
   "execution_count": null,
   "id": "bfbeb2f2",
   "metadata": {},
   "outputs": [],
   "source": [
    "plot_migration_speeds = migration_speed_df.dropna()\n",
    "plot_migration_speeds = plot_migration_speeds[plot_migration_speeds[\"FRAME\"] > interval]\n",
    "plot_migration_speeds = plot_migration_speeds[plot_migration_speeds[\"filename\"] != \"/siScr/SUM_230420_siScr_20dyn_TrackMate.csv\"]\n",
    "plot_migration_speeds = plot_migration_speeds[plot_migration_speeds[\"filename\"] != \"/siRac1/SUM_230420_siRac1_TrackMate.csv\"]\n",
    "\n",
    "#fig, ax = plt.subplots(len(intervals),figsize=(15,30))\n",
    "fig, ax = plt.subplots(1, figsize=(15,10))\n",
    "\n",
    "sns.lineplot(x = \"time_in_h\", y = \"vel_y_mu_per_h\", hue = \"condition\", data = plot_migration_speeds, ax=ax, ci = 90) \n",
    "\n",
    "#sns.lineplot(x = \"FRAME\", y = \"vel_y\", hue = \"condition\", data = plot_migration_speeds, ax=ax, ci = 90) \n",
    "#interval_length_min = 5*intervals[i]\n",
    "#ax.set_title(\"time interval %s min\" % interval_length_min)\n",
    "ax.set_ylabel(\"velocity in microns/h\")\n",
    "ax.set_ylim(-7.0,7.0)\n",
    "ax.axhline(y = 0.0, color = 'r', linestyle = 'dashed')\n",
    "\n",
    "plt.savefig(\"velocity_perpendicular_to_flow.pdf\")"
   ]
  },
  {
   "cell_type": "code",
   "execution_count": null,
   "id": "29a84cad",
   "metadata": {},
   "outputs": [],
   "source": [
    "start_tracks = dict()\n",
    "\n",
    "for filename in tracking_data_df[\"filename\"].unique():\n",
    "    tracks_df_ = tracking_data_df[tracking_data_df[\"filename\"] == filename]\n",
    "    tracks_df = tracks_df_[[\"TRACK_ID\", \"POSITION_X\", \"POSITION_Y\", \"POSITION_T\", \"FRAME\"]]\n",
    "     \n",
    "    for track_id in tracks_df[\"TRACK_ID\"].unique():\n",
    "        single_track_df = tracks_df[tracks_df [\"TRACK_ID\"]==track_id]\n",
    "        single_track_df\n",
    "        \n",
    "        "
   ]
  }
 ],
 "metadata": {
  "kernelspec": {
   "display_name": "Python 3 (ipykernel)",
   "language": "python",
   "name": "python3"
  },
  "language_info": {
   "codemirror_mode": {
    "name": "ipython",
    "version": 3
   },
   "file_extension": ".py",
   "mimetype": "text/x-python",
   "name": "python",
   "nbconvert_exporter": "python",
   "pygments_lexer": "ipython3",
   "version": "3.8.12"
  }
 },
 "nbformat": 4,
 "nbformat_minor": 5
}

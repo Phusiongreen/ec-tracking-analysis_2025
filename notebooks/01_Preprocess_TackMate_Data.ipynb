{
 "cells": [
  {
   "cell_type": "code",
   "execution_count": null,
   "id": "cb7fd49f",
   "metadata": {},
   "outputs": [],
   "source": [
    "import os\n",
    "import sys\n",
    "import pandas as pd\n",
    "\n",
    "sys.path.append(\"../\")\n",
    "from utils.io import read_parameters\n",
    "from src.compute_speeds import prepare_tracking_data\n",
    "from src.compute_speeds import compute_speeds"
   ]
  },
  {
   "cell_type": "code",
   "execution_count": null,
   "id": "71612650",
   "metadata": {},
   "outputs": [],
   "source": [
    "# read parameters and key file\n",
    "\n",
    "parameter_file  = \"../data/test_set_june2025/parameters_test_set.yml\"\n",
    "parameters = read_parameters(parameter_file)       \n",
    "\n",
    "\n",
    "key_file_path = parameters[\"key_file\"]\n",
    "key_file = pd.read_csv(key_file_path)\n",
    "print(key_file.head())\n",
    "\n",
    "output_folder = parameters[\"output_folder\"]\n",
    "\n",
    "if not os.path.exists(output_folder + \"/tracking_data/\"):\n",
    "    os.mkdir(output_folder + \"/tracking_data/\")\n",
    "\n",
    "if not os.path.exists(output_folder + \"/speed_data/\"):\n",
    "    os.mkdir(output_folder + \"/speed_data/\")"
   ]
  },
  {
   "cell_type": "code",
   "execution_count": null,
   "id": "45eea5f1",
   "metadata": {},
   "outputs": [],
   "source": [
    "key_file.columns = key_file.columns.str.strip()\n",
    "print(\"Key file columns:\", key_file.columns)\n",
    "\n",
    "for index, row in key_file.iterrows():\n",
    "    print(\"Processing file: \", row[\"filename\"])"
   ]
  },
  {
   "cell_type": "code",
   "execution_count": null,
   "id": "1f3ccb7b",
   "metadata": {},
   "outputs": [],
   "source": [
    "prepare_tracking_data(parameters, key_file)\n"
   ]
  },
  {
   "cell_type": "code",
   "execution_count": null,
   "id": "6df4a7e4",
   "metadata": {},
   "outputs": [],
   "source": [
    "compute_speeds(parameters, key_file)"
   ]
  }
 ],
 "metadata": {
  "kernelspec": {
   "display_name": "ec-tracking-analysis",
   "language": "python",
   "name": "python3"
  },
  "language_info": {
   "codemirror_mode": {
    "name": "ipython",
    "version": 3
   },
   "file_extension": ".py",
   "mimetype": "text/x-python",
   "name": "python",
   "nbconvert_exporter": "python",
   "pygments_lexer": "ipython3",
   "version": "3.8.20"
  }
 },
 "nbformat": 4,
 "nbformat_minor": 5
}

{
 "cells": [
  {
   "cell_type": "code",
   "execution_count": null,
   "id": "cb7fd49f",
   "metadata": {},
   "outputs": [],
   "source": [
    "import os\n",
    "import sys\n",
    "\n",
    "sys.path.append(\"../\")\n",
    "from utils.io import read_parameters\n",
    "from src.compute_speeds import prepare_tracking_data"
   ]
  },
  {
   "cell_type": "code",
   "execution_count": null,
   "id": "71612650",
   "metadata": {},
   "outputs": [],
   "source": [
    "# read parameters and key file\n",
    "\n",
    "parameter_file  = \"../local/parameters.yml\"\n",
    "parameters = read_parameters(parameter_file)       \n",
    "\n",
    "\n",
    "key_file_path = parameters[\"key_file\"]\n",
    "key_file = pd.read_csv(key_file_path)\n",
    "print(key_file.head())"
   ]
  },
  {
   "cell_type": "code",
   "execution_count": null,
   "id": "1f3ccb7b",
   "metadata": {},
   "outputs": [],
   "source": []
  }
 ],
 "metadata": {
  "kernelspec": {
   "display_name": "Python 3 (ipykernel)",
   "language": "python",
   "name": "python3"
  },
  "language_info": {
   "codemirror_mode": {
    "name": "ipython",
    "version": 3
   },
   "file_extension": ".py",
   "mimetype": "text/x-python",
   "name": "python",
   "nbconvert_exporter": "python",
   "pygments_lexer": "ipython3",
   "version": "3.8.16"
  }
 },
 "nbformat": 4,
 "nbformat_minor": 5
}

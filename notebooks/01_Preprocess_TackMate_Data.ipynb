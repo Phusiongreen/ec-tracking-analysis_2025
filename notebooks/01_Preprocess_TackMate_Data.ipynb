{
 "cells": [
  {
   "cell_type": "code",
   "execution_count": null,
   "id": "cb7fd49f",
   "metadata": {},
   "outputs": [],
   "source": [
    "import os\n",
    "import sys\n",
    "import pandas as pd\n",
    "\n",
    "sys.path.append(\"../\")\n",
    "from utils.io import read_parameters\n",
    "from src.compute_speeds import prepare_tracking_data"
   ]
  },
  {
   "cell_type": "code",
   "execution_count": null,
   "id": "71612650",
   "metadata": {},
   "outputs": [],
   "source": [
    "# read parameters and key file\n",
    "\n",
    "parameter_file  = \"../local/parameters.yml\"\n",
    "parameters = read_parameters(parameter_file)       \n",
    "\n",
    "\n",
    "key_file_path = parameters[\"key_file\"]\n",
    "key_file = pd.read_csv(key_file_path)\n",
    "print(key_file.head())\n",
    "\n",
    "output_folder = parameters[\"output_folder\"]\n",
    "\n"
   ]
  },
  {
   "cell_type": "code",
   "execution_count": null,
   "id": "f6d2ebb8",
   "metadata": {},
   "outputs": [],
   "source": [
    "subject = \"tracking_data\"\n",
    "if not os.path.exists(output_folder + \"/\" + subject):\n",
    "    os.mkdir(output_folder + \"/\" + subject)"
   ]
  },
  {
   "cell_type": "code",
   "execution_count": null,
   "id": "1f3ccb7b",
   "metadata": {},
   "outputs": [],
   "source": [
    "tracking_data = prepare_tracking_data(parameters, key_file)\n",
    "tracking_data.to_csv(output_folder + \"tracking_data/tracking_data.csv\", index=False)"
   ]
  }
 ],
 "metadata": {
  "kernelspec": {
   "display_name": "Python 3 (ipykernel)",
   "language": "python",
   "name": "python3"
  },
  "language_info": {
   "codemirror_mode": {
    "name": "ipython",
    "version": 3
   },
   "file_extension": ".py",
   "mimetype": "text/x-python",
   "name": "python",
   "nbconvert_exporter": "python",
   "pygments_lexer": "ipython3",
   "version": "3.8.19"
  }
 },
 "nbformat": 4,
 "nbformat_minor": 5
}

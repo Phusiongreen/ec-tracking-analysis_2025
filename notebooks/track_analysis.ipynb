{
 "cells": [
  {
   "cell_type": "code",
   "execution_count": null,
   "id": "c489d575",
   "metadata": {},
   "outputs": [],
   "source": [
    "import pandas as pd\n",
    "import seaborn as sns\n",
    "import numpy as np\n",
    "import matplotlib.pyplot as plt\n",
    "import sys\n",
    "from statannot import add_stat_annotation\n",
    "sys.path.append(\"../\")\n",
    "\n",
    "from utils.io import read_parameters"
   ]
  },
  {
   "cell_type": "code",
   "execution_count": null,
   "id": "411c8d88",
   "metadata": {},
   "outputs": [],
   "source": [
    "plt.rcParams.update({'font.size': 18})\n",
    "\n",
    "parameter_file  = \"../local/parameters.yml\"\n",
    "parameters = read_parameters(parameter_file)   \n",
    "\n",
    "base_folder = parameters[\"base_folder\"]\n",
    "tracking_data_files = parameters[\"tracking_data\"]\n",
    "data_exclude = parameters[\"data_exclude\"]\n",
    "output_folder = parameters[\"output_folder\"]\n",
    "\n",
    "single_time_point_evaluation = parameters[\"single_time_point_evaluation\"]\n",
    "\n",
    "interval = parameters[\"time_lag\"]\n",
    "hue_order = [\"siScr\", \"siCdc42\", \"siRac1\"]\n",
    "\n",
    "decimal_places = parameters[\"decimal_places\"]"
   ]
  },
  {
   "cell_type": "code",
   "execution_count": null,
   "id": "a7e53fe1",
   "metadata": {},
   "outputs": [],
   "source": [
    "parameters"
   ]
  },
  {
   "cell_type": "markdown",
   "id": "7c7613bf",
   "metadata": {},
   "source": [
    "# load data"
   ]
  },
  {
   "cell_type": "code",
   "execution_count": null,
   "id": "5f65c580",
   "metadata": {},
   "outputs": [],
   "source": [
    "tracking_data_df = pd.DataFrame() \n",
    "column_dtypes = {'TRACK_ID': 'int16', \n",
    "                 'FRAME': 'int16', \n",
    "                             'POSITION_X' : 'float16',\n",
    "                             'POSITION_Y' : 'float16',\n",
    "                             'POSITION_T' : 'float16'}\n",
    "print(list(column_dtypes))\n",
    "\n",
    "for condition in tracking_data_files:\n",
    "    for filename in tracking_data_files[condition]:\n",
    "        \n",
    "        if filename in data_exclude:\n",
    "            print(\"Excluding file: \", filename)\n",
    "            print(\"##################\")\n",
    "            continue\n",
    "        \n",
    "        print(\"Processing file: \", filename)\n",
    "        data = pd.read_csv(base_folder + \"/\"+ filename, low_memory=False).drop([0,1,2])\n",
    "\n",
    "        data_ = data[list(column_dtypes)]\n",
    "\n",
    "        data_.insert(0, \"filename\", filename)\n",
    "        data_.insert(0, \"condition\", condition)\n",
    "        \n",
    "        data_ = data_.astype(column_dtypes)\n",
    "        data_ = data_.sort_values(by= \"FRAME\")\n",
    "        \n",
    "        for track_id in data_[\"TRACK_ID\"].unique():\n",
    "            single_track_df = data_[data_[\"TRACK_ID\"]==track_id]\n",
    "            track_length = len(single_track_df.index) \n",
    "            start_frame = single_track_df[\"FRAME\"].min()\n",
    "            end_frame = single_track_df[\"FRAME\"].max()\n",
    "            ### uncomment to check for gaps\n",
    "            #if track_length < end_frame - start_frame + 1:\n",
    "            #    print(\"Track: \", track_id, \"with length \", track_length, \" has a gap\")\n",
    "            #    print(np.array(single_track_df[\"FRAME\"]))\n",
    "            #else: \n",
    "            #    print(\"Track: \", track_id, \"with length \", track_length,\" has no gap\")\n",
    "            #    print(np.array(single_track_df[\"FRAME\"]))\n",
    "            ###\n",
    "            start_x = np.array(single_track_df[\"POSITION_X\"])[0]\n",
    "            start_y = np.array(single_track_df[\"POSITION_Y\"])[0]\n",
    "            data_.loc[data_.TRACK_ID == track_id, \"START_X\"] = start_x\n",
    "            data_.loc[data_.TRACK_ID == track_id, \"START_Y\"] = start_y\n",
    "            \n",
    "            if track_length < parameters[\"min_track_length\"]:\n",
    "                data_ = data_[data_[\"TRACK_ID\"] != track_id ]\n",
    "                \n",
    "        print(\"##################\")\n",
    "        if len(tracking_data_df.index) > 10:\n",
    "            #tracking_data_df = tracking_data_df.append(data_)\n",
    "            tracking_data_df = pd.concat([tracking_data_df, data_], ignore_index = True)\n",
    "        else:\n",
    "            tracking_data_df = data_.copy()\n",
    "\n",
    "\n"
   ]
  },
  {
   "cell_type": "code",
   "execution_count": null,
   "id": "2dc2d873",
   "metadata": {},
   "outputs": [],
   "source": [
    "### for trajectory plots            \n",
    "tracking_data_df[\"ORIGIN_X\"] = tracking_data_df[\"POSITION_X\"] - tracking_data_df[\"START_X\"] \n",
    "tracking_data_df[\"ORIGIN_Y\"] = tracking_data_df[\"POSITION_Y\"] - tracking_data_df[\"START_Y\"] \n",
    "tracking_data_df[\"ORIGIN_L\"] = np.sqrt(tracking_data_df[\"ORIGIN_X\"]**2 + tracking_data_df[\"ORIGIN_Y\"]**2)"
   ]
  },
  {
   "cell_type": "code",
   "execution_count": null,
   "id": "dd5312ff",
   "metadata": {},
   "outputs": [],
   "source": [
    "display(tracking_data_df)"
   ]
  },
  {
   "cell_type": "code",
   "execution_count": null,
   "id": "f49c74aa",
   "metadata": {},
   "outputs": [],
   "source": [
    "tracking_data_df.to_csv(output_folder + \"tracking_data.csv\")"
   ]
  },
  {
   "cell_type": "code",
   "execution_count": null,
   "id": "50710771",
   "metadata": {},
   "outputs": [],
   "source": [
    "# plot info for a single track from a single file\n",
    "test = tracking_data_df[tracking_data_df[\"TRACK_ID\"] ==0].sort_values(by= \"FRAME\")\n",
    "test = test[test[\"filename\"] == \"/siScr/SUM_230420_siScr_20dyn_TrackMate.csv\"]\n",
    "display(test)\n",
    "len(test.index)"
   ]
  },
  {
   "cell_type": "markdown",
   "id": "de2536c7",
   "metadata": {},
   "source": [
    "# Quality check: plot abundance and length of trajectories"
   ]
  },
  {
   "cell_type": "code",
   "execution_count": null,
   "id": "44c97d0b",
   "metadata": {},
   "outputs": [],
   "source": [
    "for filename in tracking_data_df[\"filename\"].unique():\n",
    "    tracking_data_df_ = tracking_data_df[tracking_data_df[\"filename\"] == filename]\n",
    "    fig, ax = plt.subplots(figsize=(20,10))\n",
    "    sns.scatterplot(data = tracking_data_df_, x = \"FRAME\", y = \"TRACK_ID\")\n",
    "    ax.set_title(filename)"
   ]
  },
  {
   "cell_type": "code",
   "execution_count": null,
   "id": "61257b9c",
   "metadata": {
    "scrolled": true
   },
   "outputs": [],
   "source": [
    "for filename in tracking_data_df[\"filename\"].unique():\n",
    "    tracking_data_df_ = tracking_data_df[tracking_data_df[\"filename\"] == filename]\n",
    "    fig, ax = plt.subplots(figsize=(20,10))\n",
    "    tracking_data_df_[[\"FRAME\",\"TRACK_ID\"]].groupby(\"FRAME\").count().plot(ax =ax)\n",
    "    ax.set_title(filename)"
   ]
  },
  {
   "cell_type": "markdown",
   "id": "ea5aa3c4",
   "metadata": {},
   "source": [
    "# Split data into phase 1 and phase 2"
   ]
  },
  {
   "cell_type": "code",
   "execution_count": null,
   "id": "5caa3014",
   "metadata": {},
   "outputs": [],
   "source": [
    "phase_1_data_df = tracking_data_df[tracking_data_df[\"FRAME\"] <= parameters[\"end_phase_1\"]]\n",
    "phase_2_data_df = tracking_data_df[tracking_data_df[\"FRAME\"] >= parameters[\"start_phase_2\"]]"
   ]
  },
  {
   "cell_type": "code",
   "execution_count": null,
   "id": "42a1054c",
   "metadata": {},
   "outputs": [],
   "source": [
    "test_df = phase_1_data_df[phase_1_data_df[\"filename\"] == \"/siRac1/SUM_230427_siRac1_TrackMate.csv\"]\n",
    "print(test_df[\"TRACK_ID\"].unique())\n",
    "single_track_test_df = test_df[test_df[\"TRACK_ID\"] == 379]\n",
    "single_track_test_df "
   ]
  },
  {
   "cell_type": "markdown",
   "id": "60d276e4",
   "metadata": {},
   "source": [
    "# Plot trajectories"
   ]
  },
  {
   "cell_type": "code",
   "execution_count": null,
   "id": "b4c55145",
   "metadata": {},
   "outputs": [],
   "source": [
    "subsampling_n = 10"
   ]
  },
  {
   "cell_type": "markdown",
   "id": "0649dba1",
   "metadata": {},
   "source": [
    "# phase 1 trajectories split by filename (all trajctories)"
   ]
  },
  {
   "cell_type": "code",
   "execution_count": null,
   "id": "f6ff9390",
   "metadata": {
    "scrolled": false
   },
   "outputs": [],
   "source": [
    "for filename in phase_1_data_df[\"filename\"].unique():\n",
    "    tracking_data_df_ = phase_1_data_df[phase_1_data_df[\"filename\"] == filename]\n",
    "\n",
    "    fig, ax = plt.subplots(figsize=(9,9))\n",
    "    for track_id in tracking_data_df_[\"TRACK_ID\"].unique():\n",
    "        single_track_df = tracking_data_df_[tracking_data_df_[\"TRACK_ID\"]==track_id]\n",
    "        if len(single_track_df.index) < parameters[\"end_phase_1\"]:\n",
    "            continue\n",
    "\n",
    "        end_x = np.array(single_track_df[\"ORIGIN_X\"])[-1]\n",
    "        end_y = np.array(single_track_df[\"ORIGIN_Y\"])[-1]\n",
    "        \n",
    "        if end_x < 0.0:\n",
    "            ax.plot(single_track_df[\"ORIGIN_X\"],single_track_df[\"ORIGIN_Y\"], color = \"#377eb8\")\n",
    "            ax.plot([end_x],[end_y], color = \"black\", marker = \"o\")  \n",
    "        else:\n",
    "            ax.plot(single_track_df[\"ORIGIN_X\"],single_track_df[\"ORIGIN_Y\"], color = \"#ff7f00\")\n",
    "            ax.plot([end_x],[end_y], color = \"black\", marker = \"o\") \n",
    "            \n",
    "        #ax.plot([end_x],[end_y], color = \"red\", marker = \"o\")\n",
    "        \n",
    "    ax.set_xlim(-50,50)\n",
    "    ax.set_ylim(-50,50)\n",
    "    ax.axhline(0, color=\"red\", linestyle = \"--\")\n",
    "    ax.axvline(0, color=\"red\", linestyle = \"--\")\n",
    "    ax.set_title(filename)\n",
    "    plt.savefig(output_folder + \"EC_trajectories_%s.png\" % str(filename).split(\"/\")[2])\n",
    "    plt.savefig(output_folder + \"EC_trajectories_%s.pdf\" % str(filename).split(\"/\")[2])"
   ]
  },
  {
   "cell_type": "markdown",
   "id": "62a88b4f",
   "metadata": {},
   "source": [
    "# phase 1 trajectories split by filename (every n-th trajectories)"
   ]
  },
  {
   "cell_type": "code",
   "execution_count": null,
   "id": "0d2e5ca8",
   "metadata": {
    "scrolled": false
   },
   "outputs": [],
   "source": [
    "for filename in phase_1_data_df[\"filename\"].unique():\n",
    "    tracking_data_df_ = phase_1_data_df[phase_1_data_df[\"filename\"] == filename]\n",
    "\n",
    "    fig, ax = plt.subplots(figsize=(10,10))\n",
    "    counter = 0\n",
    "    for track_id in tracking_data_df_[\"TRACK_ID\"].unique():\n",
    "        single_track_df = tracking_data_df_[tracking_data_df_[\"TRACK_ID\"]==track_id]\n",
    "        if len(single_track_df.index) < parameters[\"end_phase_1\"]:\n",
    "            continue\n",
    "        if counter % subsampling_n == 0: \n",
    "            end_x = np.array(single_track_df[\"ORIGIN_X\"])[-1]\n",
    "            end_y = np.array(single_track_df[\"ORIGIN_Y\"])[-1]\n",
    "        \n",
    "            if end_x < 0.0:\n",
    "                ax.plot(single_track_df[\"ORIGIN_X\"],single_track_df[\"ORIGIN_Y\"], color = \"black\")\n",
    "                ax.plot([end_x],[end_y], color = \"black\", marker = \"o\")  \n",
    "            else:\n",
    "                ax.plot(single_track_df[\"ORIGIN_X\"],single_track_df[\"ORIGIN_Y\"], color = \"orange\")\n",
    "                ax.plot([end_x],[end_y], color = \"orange\", marker = \"o\") \n",
    "        counter += 1\n",
    "        \n",
    "    ax.set_xlim(-40,40)\n",
    "    ax.set_ylim(-40,40)\n",
    "    ax.set_title(filename)\n",
    "    ax.axhline(0, color=\"red\", linestyle = \"--\")\n",
    "    ax.axvline(0, color=\"red\", linestyle = \"--\")\n",
    "    plt.savefig(output_folder + \"EC_trajectories_subsample_%s_%s.png\" % (subsampling_n,str(filename).split(\"/\")[2]))\n",
    "    plt.savefig(output_folder + \"EC_trajectories_subsample_%s_%s.pdf\" % (subsampling_n,str(filename).split(\"/\")[2]))"
   ]
  },
  {
   "cell_type": "markdown",
   "id": "aad7ec29",
   "metadata": {},
   "source": [
    "# phase 1 trajectories split by condition (all trajctories)"
   ]
  },
  {
   "cell_type": "code",
   "execution_count": null,
   "id": "65d590c7",
   "metadata": {
    "scrolled": false
   },
   "outputs": [],
   "source": [
    "for condition in phase_1_data_df[\"condition\"].unique():\n",
    "    condition_data_df = phase_1_data_df[phase_1_data_df[\"condition\"] == condition]\n",
    "\n",
    "    fig, ax = plt.subplots(figsize=(10,10))  \n",
    "    \n",
    "    for filename in condition_data_df[\"filename\"].unique():\n",
    "\n",
    "        tracking_data_df_ = condition_data_df[condition_data_df[\"filename\"] == filename ]\n",
    "        for track_id in tracking_data_df_[\"TRACK_ID\"].unique():\n",
    "            single_track_df = tracking_data_df_[tracking_data_df_[\"TRACK_ID\"]==track_id]\n",
    "            if len(single_track_df.index) < parameters[\"end_phase_1\"]:\n",
    "                continue\n",
    "\n",
    "            end_x = np.array(single_track_df[\"ORIGIN_X\"])[-1]\n",
    "            end_y = np.array(single_track_df[\"ORIGIN_Y\"])[-1]\n",
    "\n",
    "            if end_x < 0.0:\n",
    "                ax.plot(single_track_df[\"ORIGIN_X\"],single_track_df[\"ORIGIN_Y\"], color = \"black\")\n",
    "                ax.plot([end_x],[end_y], color = \"black\", marker = \"o\")  \n",
    "            else:\n",
    "                ax.plot(single_track_df[\"ORIGIN_X\"],single_track_df[\"ORIGIN_Y\"], color = \"orange\")\n",
    "                ax.plot([end_x],[end_y], color = \"orange\", marker = \"o\") \n",
    "            \n",
    "        \n",
    "    ax.set_xlim(-40,40)\n",
    "    ax.set_ylim(-40,40)\n",
    "    ax.axhline(0, color=\"red\", linestyle = \"--\")\n",
    "    ax.axvline(0, color=\"red\", linestyle = \"--\")\n",
    "    ax.set_title(condition)\n",
    "    ax.set_xlabel(\"$\\Delta$x in $\\mu$m\")\n",
    "    ax.set_ylabel(\"$\\Delta$y in $\\mu$m\")\n",
    "    plt.savefig(output_folder + \"EC_trajectories_%s.png\" % condition)\n",
    "    plt.savefig(output_folder + \"EC_trajectories_%s.pdf\" % condition)        \n",
    "        "
   ]
  },
  {
   "cell_type": "markdown",
   "id": "f33becf2",
   "metadata": {},
   "source": [
    "# phase 1 trajectories split by condition (every n-th trajectory)"
   ]
  },
  {
   "cell_type": "code",
   "execution_count": null,
   "id": "0d6389f0",
   "metadata": {
    "scrolled": false
   },
   "outputs": [],
   "source": [
    "for condition in phase_1_data_df[\"condition\"].unique():\n",
    "    condition_data_df = phase_1_data_df[phase_1_data_df[\"condition\"] == condition]\n",
    "\n",
    "    fig, ax = plt.subplots(figsize=(10,10))\n",
    "    \n",
    "    for filename in condition_data_df[\"filename\"].unique():\n",
    "        counter = 0\n",
    "        tracking_data_df_ = condition_data_df[condition_data_df[\"filename\"] == filename ]\n",
    "        for track_id in tracking_data_df_[\"TRACK_ID\"].unique():\n",
    "                   \n",
    "            single_track_df = tracking_data_df_[tracking_data_df_[\"TRACK_ID\"]==track_id]\n",
    "            if len(single_track_df.index) < parameters[\"end_phase_1\"]:\n",
    "                continue\n",
    "            if counter % subsampling_n == 0:  \n",
    "                end_x = np.array(single_track_df[\"ORIGIN_X\"])[-1]\n",
    "                end_y = np.array(single_track_df[\"ORIGIN_Y\"])[-1]\n",
    "\n",
    "                if end_x < 0.0:\n",
    "                    ax.plot(single_track_df[\"ORIGIN_X\"],single_track_df[\"ORIGIN_Y\"], color = \"black\")\n",
    "                    ax.plot([end_x],[end_y], color = \"black\", marker = \"o\")  \n",
    "                else:\n",
    "                    ax.plot(single_track_df[\"ORIGIN_X\"],single_track_df[\"ORIGIN_Y\"], color = \"orange\")\n",
    "                    ax.plot([end_x],[end_y], color = \"orange\", marker = \"o\") \n",
    "                 \n",
    "            counter += 1\n",
    "            \n",
    "        \n",
    "    ax.set_xlim(-40,40)\n",
    "    ax.set_ylim(-40,40)\n",
    "    ax.axhline(0, color=\"red\", linestyle = \"--\")\n",
    "    ax.axvline(0, color=\"red\", linestyle = \"--\")\n",
    "    ax.set_title(condition)\n",
    "    ax.set_xlabel(\"$\\Delta$x in $\\mu$m\")\n",
    "    ax.set_ylabel(\"$\\Delta$y in $\\mu$m\")\n",
    "    plt.savefig(output_folder + \"EC_trajectories_subsample_%s_%s.png\" % (subsampling_n,condition))\n",
    "    plt.savefig(output_folder + \"EC_trajectories_subsample_%s_%s.pdf\" % (subsampling_n,condition))     \n",
    "        "
   ]
  },
  {
   "cell_type": "markdown",
   "id": "ee5802c5",
   "metadata": {},
   "source": [
    "# Compute migration velocities"
   ]
  },
  {
   "cell_type": "code",
   "execution_count": null,
   "id": "eb54797f",
   "metadata": {
    "scrolled": true
   },
   "outputs": [],
   "source": [
    "#migration_speed_df = pd.DataFrame(columns=tracking_data_df.columns)\n",
    "migration_speed_df = pd.DataFrame()\n",
    "\n",
    "\n",
    "interval = parameters[\"time_lag\"]\n",
    "for filename in tracking_data_df[\"filename\"].unique():\n",
    "    tracks_df_ = tracking_data_df[tracking_data_df[\"filename\"] == filename]\n",
    "    tracks_df = tracks_df_[[\"TRACK_ID\", \"POSITION_X\", \"POSITION_Y\", \"POSITION_T\", \"FRAME\", \"ORIGIN_X\", \"ORIGIN_Y\"]]\n",
    "    \n",
    "    print(filename)\n",
    "    status = 0\n",
    "    tracks_num = len(tracks_df[\"TRACK_ID\"].unique())\n",
    "    \n",
    "    for track_id in tracks_df[\"TRACK_ID\"].unique():\n",
    "\n",
    "        single_track_df = tracks_df[tracks_df [\"TRACK_ID\"]==track_id]\n",
    "        single_track_df = single_track_df.sort_values(by=\"FRAME\")\n",
    "        dist = single_track_df.diff(interval).fillna(0.)\n",
    "        dist[\"time_in_h\"] = dist[\"FRAME\"]*5.0/60.0\n",
    "\n",
    "        single_track_df[\"step_size\"] = np.round(np.sqrt(dist.POSITION_X**2 + dist.POSITION_Y**2),decimal_places)\n",
    "        single_track_df[\"step_size_x\"] = np.round(dist.POSITION_X,decimal_places)\n",
    "        single_track_df[\"step_size_y\"] =  np.round(dist.POSITION_Y,decimal_places)\n",
    "        single_track_df[\"vel_mu_per_h\"] = np.round(np.sqrt(dist.POSITION_X**2 + dist.POSITION_Y**2)/dist.time_in_h,decimal_places)\n",
    "        single_track_df[\"vel_x_mu_per_h\"] = np.round(dist.POSITION_X/dist.time_in_h,decimal_places)\n",
    "        single_track_df[\"vel_y_mu_per_h\"] =  np.round(dist.POSITION_Y/dist.time_in_h,decimal_places)\n",
    "        \n",
    "        single_track_df[\"phi\"] =  np.round(np.arctan2(dist.POSITION_Y,-dist.POSITION_X)*180.0/np.pi,decimal_places)\n",
    "\n",
    "        single_track_df[\"filename\"] = filename\n",
    "        single_track_df[\"condition\"] = tracks_df_[\"condition\"].iloc[0]\n",
    "        \n",
    "        single_track_df[\"time_in_h\"] = np.round(single_track_df[\"FRAME\"]*5.0/60.0,decimal_places)\n",
    "        \n",
    "        #print(\"Track ID %s\" % track_id)\n",
    "        #print(single_track_df.head())\n",
    "        if len(migration_speed_df.index) > 1:\n",
    "            #migration_speed_df = migration_speed_df.append(single_track_df, ignore_index=True)\n",
    "            migration_speed_df = pd.concat( [migration_speed_df, single_track_df], ignore_index=True)\n",
    "        else:\n",
    "            migration_speed_df = single_track_df.copy()\n",
    "        \n",
    "        #migration_speed_df = migration_speed_df.append(single_track_df, ignore_index=True)\n",
    "        \n",
    "        status +=1 \n",
    "        if status % 500 == 0:\n",
    "            print(\"%s out of %s tracks analyzed.\" % (status,tracks_num)) \n"
   ]
  },
  {
   "cell_type": "code",
   "execution_count": null,
   "id": "01ebfa5c",
   "metadata": {},
   "outputs": [],
   "source": [
    "migration_speed_df.to_csv(output_folder + \"migration_speeds_time_lag_%s.csv\" % interval, index = False)"
   ]
  },
  {
   "cell_type": "code",
   "execution_count": null,
   "id": "fb546392",
   "metadata": {},
   "outputs": [],
   "source": [
    "print(interval)"
   ]
  },
  {
   "cell_type": "markdown",
   "id": "822a1608",
   "metadata": {},
   "source": [
    "# box plot effective path length"
   ]
  },
  {
   "cell_type": "code",
   "execution_count": null,
   "id": "af403dde",
   "metadata": {},
   "outputs": [],
   "source": [
    "plot_data_ = pd.DataFrame()\n",
    "\n",
    "for filename in tracking_data_df[\"filename\"].unique():\n",
    "    tracking_data_df_ = tracking_data_df[tracking_data_df[\"filename\"] == filename]\n",
    "    for track_id in tracking_data_df_[\"TRACK_ID\"].unique():\n",
    "        single_track_df = tracking_data_df_[tracking_data_df_[\"TRACK_ID\"]==track_id]\n",
    "        if single_track_df[\"FRAME\"].min() > 0:\n",
    "            continue\n",
    "\n",
    "        if len(plot_data_.index) > 3:\n",
    "            plot_data_ = plot_data_.append(single_track_df)\n",
    "        else:\n",
    "            plot_data_ = single_track_df.copy()\n",
    "\n"
   ]
  },
  {
   "cell_type": "code",
   "execution_count": null,
   "id": "e24b2492",
   "metadata": {},
   "outputs": [],
   "source": [
    "fig, ax = plt.subplots(1, figsize=(10,10))\n",
    "\n",
    "plt.rcParams.update({'font.size': 14})\n",
    "\n",
    "plot_data = plot_data_[plot_data_[\"FRAME\"]== single_time_point_evaluation].groupby([\"condition\", \"filename\"])[\"ORIGIN_X\"].mean().reset_index()\n",
    "#plot_data = single_time_point.copy()\n",
    "\n",
    "sns.boxplot(data = plot_data, x = \"condition\", order = hue_order, y = \"ORIGIN_X\" )\n",
    "sns.swarmplot(data = plot_data, x = \"condition\", order = hue_order, y = \"ORIGIN_X\" , color=\"black\", size =10)\n",
    "test_results = add_stat_annotation(ax, data=plot_data, y = \"ORIGIN_X\", x = \"condition\", order = hue_order, \n",
    "                                   #order=order,\n",
    "                                   box_pairs=[(\"siScr\", \"siCdc42\"), (\"siScr\", \"siRac1\"), (\"siCdc42\", \"siRac1\")],\n",
    "                                   test='t-test_welch', text_format='star',\n",
    "                                   loc='inside', verbose=2)\n",
    "\n",
    "ax.set_ylabel(\"effective path length parallel to flow in $\\mu$m\")\n",
    "ax.set_title(\"effective path length parallel to flow\")\n",
    "ax.set_ylim(-12.0,1.0)\n",
    "\n",
    "plt.savefig(output_folder + \"effective_path_length_parallel_to_flow_box_plot.png\")\n",
    "plt.savefig(output_folder + \"effective_path_length_parallel_to_flow_box_plot.pdf\")"
   ]
  },
  {
   "cell_type": "code",
   "execution_count": null,
   "id": "321c2f9e",
   "metadata": {},
   "outputs": [],
   "source": [
    "fig, ax = plt.subplots(1, figsize=(10,10))\n",
    "\n",
    "plot_data = plot_data_[plot_data_[\"FRAME\"] == single_time_point_evaluation].groupby([\"condition\", \"filename\"])[\"ORIGIN_L\"].mean().reset_index()\n",
    "\n",
    "\n",
    "plt.rcParams.update({'font.size': 14})\n",
    "sns.boxplot(data = plot_data, x = \"condition\", order = hue_order, y = \"ORIGIN_L\" )\n",
    "sns.swarmplot(data = plot_data, x = \"condition\", order = hue_order, y = \"ORIGIN_L\" , color=\"black\", size =10)\n",
    "test_results = add_stat_annotation(ax, data=plot_data, y = \"ORIGIN_L\", x = \"condition\", order = hue_order, \n",
    "                                   #order=order,\n",
    "                                   box_pairs=[(\"siScr\", \"siCdc42\"), (\"siScr\", \"siRac1\"), (\"siCdc42\", \"siRac1\")],\n",
    "                                   test='t-test_welch', text_format='star',\n",
    "                                   loc='inside', verbose=2)\n",
    "\n",
    "ax.set_ylabel(\"effective path length in $\\mu$m\")\n",
    "ax.set_title(\"effective path length\")\n",
    "ax.set_ylim(0,24.0)\n",
    "\n",
    "plt.savefig(output_folder + \"effective_path_length_box_plot.png\")\n",
    "plt.savefig(output_folder + \"effective_path_length_box_plot.pdf\")"
   ]
  }
 ],
 "metadata": {
  "kernelspec": {
   "display_name": "Python 3 (ipykernel)",
   "language": "python",
   "name": "python3"
  },
  "language_info": {
   "codemirror_mode": {
    "name": "ipython",
    "version": 3
   },
   "file_extension": ".py",
   "mimetype": "text/x-python",
   "name": "python",
   "nbconvert_exporter": "python",
   "pygments_lexer": "ipython3",
   "version": "3.8.12"
  }
 },
 "nbformat": 4,
 "nbformat_minor": 5
}

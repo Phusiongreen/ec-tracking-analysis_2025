{
 "cells": [
  {
   "cell_type": "code",
   "execution_count": null,
   "id": "c489d575",
   "metadata": {},
   "outputs": [],
   "source": [
    "import pandas as pd\n",
    "import seaborn as sns\n",
    "import numpy as np\n",
    "import matplotlib.pyplot as plt\n",
    "import sys\n",
    "from statannot import add_stat_annotation\n",
    "sys.path.append(\"../\")\n",
    "\n",
    "from utils.io import read_parameters"
   ]
  },
  {
   "cell_type": "code",
   "execution_count": null,
   "id": "411c8d88",
   "metadata": {},
   "outputs": [],
   "source": [
    "plt.rcParams.update({'font.size': 18})\n",
    "\n",
    "parameter_file  = \"../local/parameters.yml\"\n",
    "parameters = read_parameters(parameter_file)   \n",
    "\n",
    "base_folder = parameters[\"base_folder\"]\n",
    "tracking_data_files = parameters[\"tracking_data\"]\n",
    "data_exclude = parameters[\"data_exclude\"]\n",
    "output_folder = parameters[\"output_folder\"]\n",
    "\n",
    "single_time_point_evaluation = parameters[\"single_time_point_evaluation\"]\n",
    "\n",
    "interval = parameters[\"time_lag\"]\n",
    "#hue_order = [\"siScr\", \"siCdc42\", \"siRac1\"]\n",
    "hue_order = [\"siCtrl\", \"siSmad4\", \"siAlk1\"]\n",
    "\n",
    "decimal_places = parameters[\"decimal_places\"]"
   ]
  },
  {
   "cell_type": "code",
   "execution_count": null,
   "id": "a7e53fe1",
   "metadata": {},
   "outputs": [],
   "source": [
    "parameters"
   ]
  },
  {
   "cell_type": "markdown",
   "id": "7c7613bf",
   "metadata": {},
   "source": [
    "# load data"
   ]
  },
  {
   "cell_type": "code",
   "execution_count": null,
   "id": "5f65c580",
   "metadata": {},
   "outputs": [],
   "source": [
    "tracking_data_df = pd.DataFrame() \n",
    "\n",
    "column_dtypes = {'TRACK_ID': 'int16', \n",
    "                 'FRAME': 'int16', \n",
    "                             'POSITION_X' : 'float16',\n",
    "                             'POSITION_Y' : 'float16',\n",
    "                             'POSITION_T' : 'float32'}\n",
    "\n",
    "print(list(column_dtypes))\n",
    "\n",
    "for condition in tracking_data_files:\n",
    "    for filename in tracking_data_files[condition]:\n",
    "        \n",
    "        if filename in data_exclude:\n",
    "            print(\"Excluding file: \", filename)\n",
    "            print(\"##################\")\n",
    "            continue\n",
    "        \n",
    "        print(\"Processing file: \", filename)\n",
    "        data = pd.read_csv(base_folder + \"/\"+ filename, low_memory=False).drop([0,1,2])\n",
    "\n",
    "        data_ = data[list(column_dtypes)]\n",
    "\n",
    "        data_.insert(0, \"filename\", filename)\n",
    "        data_.insert(0, \"condition\", condition)\n",
    "        \n",
    "        data_ = data_.astype(column_dtypes)\n",
    "        data_ = data_.sort_values(by= \"FRAME\")\n",
    "        \n",
    "        for track_id in data_[\"TRACK_ID\"].unique():\n",
    "            single_track_df = data_[data_[\"TRACK_ID\"]==track_id]\n",
    "            track_length = len(single_track_df.index) \n",
    "            start_frame = single_track_df[\"FRAME\"].min()\n",
    "            end_frame = single_track_df[\"FRAME\"].max()\n",
    "            ### uncomment to check for gaps\n",
    "            #if track_length < end_frame - start_frame + 1:\n",
    "            #    print(\"Track: \", track_id, \"with length \", track_length, \" has a gap\")\n",
    "            #    print(np.array(single_track_df[\"FRAME\"]))\n",
    "            #else: \n",
    "            #    print(\"Track: \", track_id, \"with length \", track_length,\" has no gap\")\n",
    "            #    print(np.array(single_track_df[\"FRAME\"]))\n",
    "            ###\n",
    "            start_x = np.array(single_track_df[\"POSITION_X\"])[0]\n",
    "            start_y = np.array(single_track_df[\"POSITION_Y\"])[0]\n",
    "            data_.loc[data_.TRACK_ID == track_id, \"START_X\"] = start_x\n",
    "            data_.loc[data_.TRACK_ID == track_id, \"START_Y\"] = start_y\n",
    "            \n",
    "            if track_length < parameters[\"min_track_length\"]:\n",
    "                data_ = data_[data_[\"TRACK_ID\"] != track_id ]\n",
    "                \n",
    "            #print(track_id)\n",
    "                \n",
    "        print(\"##################\")\n",
    "        if len(tracking_data_df.index) > 10:\n",
    "            #tracking_data_df = tracking_data_df.append(data_)\n",
    "            tracking_data_df = pd.concat([tracking_data_df, data_], ignore_index = True)\n",
    "        else:\n",
    "            tracking_data_df = data_.copy()\n",
    "            \n",
    "        del data_\n",
    "        del data"
   ]
  },
  {
   "cell_type": "code",
   "execution_count": null,
   "id": "2dc2d873",
   "metadata": {},
   "outputs": [],
   "source": [
    "### for trajectory plots            \n",
    "tracking_data_df[\"ORIGIN_X\"] = tracking_data_df[\"POSITION_X\"] - tracking_data_df[\"START_X\"] \n",
    "tracking_data_df[\"ORIGIN_Y\"] = tracking_data_df[\"POSITION_Y\"] - tracking_data_df[\"START_Y\"] \n",
    "tracking_data_df[\"ORIGIN_L\"] = np.sqrt(tracking_data_df[\"ORIGIN_X\"]**2 + tracking_data_df[\"ORIGIN_Y\"]**2)"
   ]
  },
  {
   "cell_type": "code",
   "execution_count": null,
   "id": "dd5312ff",
   "metadata": {},
   "outputs": [],
   "source": [
    "display(tracking_data_df)"
   ]
  },
  {
   "cell_type": "code",
   "execution_count": null,
   "id": "f49c74aa",
   "metadata": {},
   "outputs": [],
   "source": [
    "tracking_data_df.to_csv(output_folder + \"tracking_data.csv\")"
   ]
  },
  {
   "cell_type": "markdown",
   "id": "de2536c7",
   "metadata": {},
   "source": [
    "# Quality check: plot abundance and length of trajectories"
   ]
  },
  {
   "cell_type": "code",
   "execution_count": null,
   "id": "44c97d0b",
   "metadata": {},
   "outputs": [],
   "source": [
    "for filename in tracking_data_df[\"filename\"].unique():\n",
    "    tracking_data_df_ = tracking_data_df[tracking_data_df[\"filename\"] == filename]\n",
    "    fig, ax = plt.subplots(figsize=(20,10))\n",
    "    sns.scatterplot(data = tracking_data_df_, x = \"FRAME\", y = \"TRACK_ID\")\n",
    "    ax.set_title(filename)"
   ]
  },
  {
   "cell_type": "code",
   "execution_count": null,
   "id": "61257b9c",
   "metadata": {
    "scrolled": true
   },
   "outputs": [],
   "source": [
    "for filename in tracking_data_df[\"filename\"].unique():\n",
    "    tracking_data_df_ = tracking_data_df[tracking_data_df[\"filename\"] == filename]\n",
    "    fig, ax = plt.subplots(figsize=(20,10))\n",
    "    tracking_data_df_[[\"FRAME\",\"TRACK_ID\"]].groupby(\"FRAME\").count().plot(ax =ax)\n",
    "    ax.set_title(filename)"
   ]
  },
  {
   "cell_type": "markdown",
   "id": "ee5802c5",
   "metadata": {},
   "source": [
    "# Compute migration velocities"
   ]
  },
  {
   "cell_type": "code",
   "execution_count": null,
   "id": "9e49b89d",
   "metadata": {},
   "outputs": [],
   "source": [
    "migration_speed_df = pd.DataFrame()\n",
    "\n",
    "\n",
    "interval = parameters[\"time_lag\"]\n",
    "for filename in tracking_data_df[\"filename\"].unique():\n",
    "    tracks_df_ = tracking_data_df[tracking_data_df[\"filename\"] == filename]\n",
    "    tracks_df = tracks_df_[[\"TRACK_ID\", \"POSITION_X\", \"POSITION_Y\", \"POSITION_T\", \"FRAME\", \"ORIGIN_X\", \"ORIGIN_Y\"]]\n",
    "    \n",
    "    print(filename)\n",
    "    status = 0\n",
    "    tracks_num = len(tracks_df[\"TRACK_ID\"].unique())\n",
    "    \n",
    "    for track_id in tracks_df[\"TRACK_ID\"].unique():\n",
    "\n",
    "        single_track_df = tracks_df[tracks_df [\"TRACK_ID\"]==track_id]\n",
    "        single_track_df = single_track_df.sort_values(by=\"FRAME\")\n",
    "        dist = single_track_df.diff(interval).fillna(0.)\n",
    "        dist[\"time_in_h\"] = dist[\"POSITION_T\"]/3600.0\n",
    "\n",
    "        single_track_df[\"step_size\"] = np.round(np.sqrt(dist.POSITION_X**2 + dist.POSITION_Y**2),decimal_places)\n",
    "        single_track_df[\"step_size_x\"] = np.round(dist.POSITION_X,decimal_places)\n",
    "        single_track_df[\"step_size_y\"] =  np.round(dist.POSITION_Y,decimal_places)\n",
    "        single_track_df[\"vel_mu_per_h\"] = np.round(np.sqrt(dist.POSITION_X**2 + dist.POSITION_Y**2)/dist.time_in_h,decimal_places)\n",
    "        single_track_df[\"vel_x_mu_per_h\"] = np.round(dist.POSITION_X/dist.time_in_h,decimal_places)\n",
    "        single_track_df[\"vel_y_mu_per_h\"] =  np.round(dist.POSITION_Y/dist.time_in_h,decimal_places)\n",
    "        \n",
    "        single_track_df[\"phi\"] =  np.round(np.arctan2(dist.POSITION_Y,-dist.POSITION_X)*180.0/np.pi,decimal_places)\n",
    "\n",
    "        single_track_df[\"filename\"] = filename\n",
    "        single_track_df[\"condition\"] = tracks_df_[\"condition\"].iloc[0]\n",
    "        \n",
    "        single_track_df[\"time_in_h\"] = np.round(single_track_df[\"POSITION_T\"]/3600.0,decimal_places)\n",
    "        \n",
    "        if len(migration_speed_df.index) > 1:\n",
    "            migration_speed_df = pd.concat( [migration_speed_df, single_track_df], ignore_index=True)\n",
    "        else:\n",
    "            migration_speed_df = single_track_df.copy()\n",
    "        \n",
    "        status +=1 \n",
    "        if status % 500 == 0:\n",
    "            print(\"%s out of %s tracks analyzed.\" % (status,tracks_num)) "
   ]
  },
  {
   "cell_type": "markdown",
   "id": "e2c5f65c",
   "metadata": {},
   "source": [
    "# save velocity computations"
   ]
  },
  {
   "cell_type": "code",
   "execution_count": null,
   "id": "01ebfa5c",
   "metadata": {},
   "outputs": [],
   "source": [
    "migration_speed_df.to_csv(output_folder + \"migration_speeds_time_lag_%s.csv\" % interval, index = False)"
   ]
  }
 ],
 "metadata": {
  "kernelspec": {
   "display_name": "Python 3 (ipykernel)",
   "language": "python",
   "name": "python3"
  },
  "language_info": {
   "codemirror_mode": {
    "name": "ipython",
    "version": 3
   },
   "file_extension": ".py",
   "mimetype": "text/x-python",
   "name": "python",
   "nbconvert_exporter": "python",
   "pygments_lexer": "ipython3",
   "version": "3.8.12"
  }
 },
 "nbformat": 4,
 "nbformat_minor": 5
}

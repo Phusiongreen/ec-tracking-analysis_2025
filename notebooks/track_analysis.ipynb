{
 "cells": [
  {
   "cell_type": "code",
   "execution_count": null,
   "id": "c489d575",
   "metadata": {},
   "outputs": [],
   "source": [
    "import pandas as pd\n",
    "import seaborn as sns\n",
    "import numpy as np\n",
    "import matplotlib.pyplot as plt\n",
    "import sys\n",
    "sys.path.append(\"../\")\n",
    "\n",
    "from utils.io import read_parameters"
   ]
  },
  {
   "cell_type": "code",
   "execution_count": null,
   "id": "411c8d88",
   "metadata": {},
   "outputs": [],
   "source": [
    "parameter_file  = \"../local/parameters.yml\"\n",
    "parameters = read_parameters(parameter_file)   \n",
    "\n",
    "base_folder = parameters[\"base_folder\"]\n",
    "tracking_data_files = parameters[\"tracking_data\"]"
   ]
  },
  {
   "cell_type": "markdown",
   "id": "7c7613bf",
   "metadata": {},
   "source": [
    "# load data"
   ]
  },
  {
   "cell_type": "code",
   "execution_count": null,
   "id": "5f65c580",
   "metadata": {},
   "outputs": [],
   "source": [
    "tracking_data_df = pd.DataFrame() \n",
    "column_dtypes = {'TRACK_ID': 'int16', \n",
    "                 'FRAME': 'int16', \n",
    "                             'POSITION_X' : 'float16',\n",
    "                             'POSITION_Y' : 'float16',\n",
    "                             'POSITION_T' : 'float16'}\n",
    "print(list(column_dtypes))\n",
    "\n",
    "for condition in tracking_data_files:\n",
    "    for filename in tracking_data_files[condition]:\n",
    "        print(filename)\n",
    "        data = pd.read_csv(base_folder + \"/\"+ filename, low_memory=False).drop([0,1,2])\n",
    "        #print(data.dtypes)\n",
    "        data_ = data[list(column_dtypes)]\n",
    "        data_[\"condition\"] = condition\n",
    "        data_[\"filename\"] = filename\n",
    "        data_ = data_.astype(column_dtypes)\n",
    "        print(\"##################\")\n",
    "        if len(tracking_data_df.index) > 10:\n",
    "            tracking_data_df = tracking_data_df.append(data_)\n",
    "        else:\n",
    "            tracking_data_df = data_.copy()"
   ]
  },
  {
   "cell_type": "code",
   "execution_count": null,
   "id": "dd5312ff",
   "metadata": {},
   "outputs": [],
   "source": [
    "tracking_data_df"
   ]
  },
  {
   "cell_type": "code",
   "execution_count": null,
   "id": "44c97d0b",
   "metadata": {},
   "outputs": [],
   "source": [
    "for filename in tracking_data_df[\"filename\"].unique():\n",
    "    tracking_data_df_ = tracking_data_df[tracking_data_df[\"filename\"] == filename]\n",
    "    fig, ax = plt.subplots(figsize=(20,10))\n",
    "    sns.scatterplot(data = tracking_data_df_, x = \"FRAME\", y = \"TRACK_ID\")\n",
    "    ax.set_title(filename)"
   ]
  },
  {
   "cell_type": "code",
   "execution_count": null,
   "id": "61257b9c",
   "metadata": {},
   "outputs": [],
   "source": [
    "for filename in tracking_data_df[\"filename\"].unique():\n",
    "    tracking_data_df_ = tracking_data_df[tracking_data_df[\"filename\"] == filename]\n",
    "    fig, ax = plt.subplots(figsize=(20,10))\n",
    "    tracking_data_df_[[\"FRAME\",\"TRACK_ID\"]].groupby(\"FRAME\").count().plot(ax =ax)\n",
    "    ax.set_title(filename)"
   ]
  },
  {
   "cell_type": "code",
   "execution_count": null,
   "id": "eb54797f",
   "metadata": {},
   "outputs": [],
   "source": [
    "migration_speed_df = pd.DataFrame(columns=tracking_data_df.columns)\n",
    "\n",
    "\n",
    "interval = 10\n",
    "for filename in tracking_data_df[\"filename\"].unique():\n",
    "    tracks_df_ = tracking_data_df[tracking_data_df[\"filename\"] == filename]\n",
    "    tracks_df = tracks_df_[[\"TRACK_ID\", \"POSITION_X\", \"POSITION_Y\", \"POSITION_T\", \"FRAME\"]]\n",
    "    \n",
    "    print(filename)\n",
    "    status = 0\n",
    "    tracks_num = len(tracks_df[\"TRACK_ID\"].unique())\n",
    "    \n",
    "    for track_id in tracks_df[\"TRACK_ID\"].unique():\n",
    "\n",
    "        single_track_df = tracks_df[tracks_df [\"TRACK_ID\"]==track_id]\n",
    "        single_track_df = single_track_df.sort_values(by=\"FRAME\")\n",
    "        dist = single_track_df.diff(interval).fillna(0.)\n",
    "\n",
    "        single_track_df[\"step_size\"] = np.sqrt(dist.POSITION_X**2 + dist.POSITION_Y**2)\n",
    "        single_track_df[\"step_size_x\"] = dist.POSITION_X\n",
    "        single_track_df[\"step_size_y\"] =  dist.POSITION_Y\n",
    "        single_track_df[\"vel\"] = np.sqrt(dist.POSITION_X**2 + dist.POSITION_Y**2)/dist.FRAME\n",
    "        single_track_df[\"vel_x\"] = dist.POSITION_X/dist.FRAME\n",
    "        single_track_df[\"vel_y\"] =  dist.POSITION_Y/dist.FRAME\n",
    "        single_track_df[\"phi\"] =  np.arctan2(dist.POSITION_Y,-dist.POSITION_X)*180.0/np.pi\n",
    "\n",
    "        single_track_df[\"filename\"] = filename\n",
    "        single_track_df[\"condition\"] = tracks_df_[\"condition\"].iloc[0]\n",
    "        \n",
    "        #print(\"Track ID %s\" % track_id)\n",
    "        #print(single_track_df.head())\n",
    "        migration_speed_df = migration_speed_df.append(single_track_df, ignore_index=True)\n",
    "        \n",
    "        status +=1 \n",
    "        if status % 500 == 0:\n",
    "            print(\"%s out of %s tracks analyzed.\" % (status,tracks_num))\n",
    "        \n",
    "    \n"
   ]
  },
  {
   "cell_type": "code",
   "execution_count": null,
   "id": "01ebfa5c",
   "metadata": {},
   "outputs": [],
   "source": [
    "migration_speed_df"
   ]
  },
  {
   "cell_type": "code",
   "execution_count": null,
   "id": "3c3fe301",
   "metadata": {},
   "outputs": [],
   "source": [
    "plot_migration_speeds = migration_speed_df.dropna()\n",
    "plot_migration_speeds = plot_migration_speeds[plot_migration_speeds[\"FRAME\"] > interval]\n",
    "\n",
    "#fig, ax = plt.subplots(len(intervals),figsize=(15,30))\n",
    "fig, ax = plt.subplots(1, figsize=(15,10))\n",
    "\n",
    "sns.lineplot(x = \"POSITION_T\", y = \"vel_x\", hue = \"condition\", data = plot_migration_speeds, ax=ax, ci = 90) \n",
    "#interval_length_min = 5*intervals[i]\n",
    "#ax.set_title(\"time interval %s min\" % interval_length_min)\n",
    "ax.set_ylabel(\"velocity in microns/min\")"
   ]
  }
 ],
 "metadata": {
  "kernelspec": {
   "display_name": "Python 3 (ipykernel)",
   "language": "python",
   "name": "python3"
  },
  "language_info": {
   "codemirror_mode": {
    "name": "ipython",
    "version": 3
   },
   "file_extension": ".py",
   "mimetype": "text/x-python",
   "name": "python",
   "nbconvert_exporter": "python",
   "pygments_lexer": "ipython3",
   "version": "3.8.12"
  }
 },
 "nbformat": 4,
 "nbformat_minor": 5
}

{
 "cells": [
  {
   "cell_type": "code",
   "execution_count": null,
   "id": "5616aa98",
   "metadata": {},
   "outputs": [],
   "source": [
    "import os\n",
    "import sys\n",
    "import pandas as pd\n",
    "\n",
    "\n",
    "sys.path.append(\"../\")\n",
    "from utils.io import read_parameters\n",
    "from src.compute_speeds import prepare_tracking_data"
   ]
  },
  {
   "cell_type": "code",
   "execution_count": null,
   "id": "1759ed76",
   "metadata": {},
   "outputs": [],
   "source": [
    "# read parameters and key file\n",
    "\n",
    "parameter_file  = \"../data/test_set_june2025/parameters_test_set.yml\"\n",
    "parameters = read_parameters(parameter_file)       \n",
    "\n",
    "\n",
    "key_file_path = parameters[\"key_file\"]\n",
    "key_file = pd.read_csv(key_file_path)\n",
    "print(key_file.head())"
   ]
  }
 ],
 "metadata": {
  "kernelspec": {
   "display_name": "ec-tracking-analysis",
   "language": "python",
   "name": "python3"
  },
  "language_info": {
   "codemirror_mode": {
    "name": "ipython",
    "version": 3
   },
   "file_extension": ".py",
   "mimetype": "text/x-python",
   "name": "python",
   "nbconvert_exporter": "python",
   "pygments_lexer": "ipython3",
   "version": "3.8.20"
  }
 },
 "nbformat": 4,
 "nbformat_minor": 5
}

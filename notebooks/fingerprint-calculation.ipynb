{
 "cells": [
  {
   "cell_type": "code",
   "execution_count": null,
   "id": "ee2af3f4",
   "metadata": {},
   "outputs": [],
   "source": [
    "import pandas as pd\n",
    "import seaborn as sns\n",
    "import numpy as np\n",
    "import matplotlib.pyplot as plt\n",
    "import sys\n",
    "from statannot import add_stat_annotation\n",
    "sys.path.append(\"../\")\n",
    "\n",
    "from utils.io import read_parameters"
   ]
  },
  {
   "cell_type": "code",
   "execution_count": null,
   "id": "5adf5814",
   "metadata": {},
   "outputs": [],
   "source": [
    "plt.rcParams.update({'font.size': 18})\n",
    "\n",
    "parameter_file  = \"../local/parameters.yml\"\n",
    "parameters = read_parameters(parameter_file)   \n",
    "\n",
    "base_folder = parameters[\"base_folder\"]\n",
    "tracking_data_files = parameters[\"tracking_data\"]\n",
    "data_exclude = parameters[\"data_exclude\"]\n",
    "output_folder = parameters[\"output_folder\"]\n",
    "\n",
    "single_time_point_evaluation = parameters[\"single_time_point_evaluation\"]\n",
    "\n",
    "#hue_order = [\"siScr\", \"siCdc42\", \"siRac1\"]\n",
    "hue_order = parameters[\"condition_order\"]\n",
    "\n",
    "decimal_places = parameters[\"decimal_places\"]"
   ]
  }
 ],
 "metadata": {
  "kernelspec": {
   "display_name": "Python 3 (ipykernel)",
   "language": "python",
   "name": "python3"
  },
  "language_info": {
   "codemirror_mode": {
    "name": "ipython",
    "version": 3
   },
   "file_extension": ".py",
   "mimetype": "text/x-python",
   "name": "python",
   "nbconvert_exporter": "python",
   "pygments_lexer": "ipython3",
   "version": "3.8.17"
  }
 },
 "nbformat": 4,
 "nbformat_minor": 5
}
